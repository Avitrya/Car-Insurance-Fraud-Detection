{
 "cells": [
  {
   "cell_type": "code",
   "execution_count": 4,
   "metadata": {
    "scrolled": false
   },
   "outputs": [
    {
     "data": {
      "text/html": [
       "<div>\n",
       "<style scoped>\n",
       "    .dataframe tbody tr th:only-of-type {\n",
       "        vertical-align: middle;\n",
       "    }\n",
       "\n",
       "    .dataframe tbody tr th {\n",
       "        vertical-align: top;\n",
       "    }\n",
       "\n",
       "    .dataframe thead th {\n",
       "        text-align: right;\n",
       "    }\n",
       "</style>\n",
       "<table border=\"1\" class=\"dataframe\">\n",
       "  <thead>\n",
       "    <tr style=\"text-align: right;\">\n",
       "      <th></th>\n",
       "      <th>Month</th>\n",
       "      <th>WeekOfMonth</th>\n",
       "      <th>DayOfWeek</th>\n",
       "      <th>Make</th>\n",
       "      <th>AccidentArea</th>\n",
       "      <th>DayOfWeekClaimed</th>\n",
       "      <th>MonthClaimed</th>\n",
       "      <th>WeekOfMonthClaimed</th>\n",
       "      <th>Sex</th>\n",
       "      <th>MaritalStatus</th>\n",
       "      <th>...</th>\n",
       "      <th>AgeOfPolicyHolder</th>\n",
       "      <th>PoliceReportFiled</th>\n",
       "      <th>WitnessPresent</th>\n",
       "      <th>AgentType</th>\n",
       "      <th>NumberOfSuppliments</th>\n",
       "      <th>AddressChange_Claim</th>\n",
       "      <th>NumberOfCars</th>\n",
       "      <th>Year</th>\n",
       "      <th>BasePolicy</th>\n",
       "      <th>FraudFound_P</th>\n",
       "    </tr>\n",
       "  </thead>\n",
       "  <tbody>\n",
       "    <tr>\n",
       "      <th>0</th>\n",
       "      <td>Dec</td>\n",
       "      <td>5</td>\n",
       "      <td>Wednesday</td>\n",
       "      <td>Honda</td>\n",
       "      <td>Urban</td>\n",
       "      <td>Tuesday</td>\n",
       "      <td>Jan</td>\n",
       "      <td>1</td>\n",
       "      <td>Female</td>\n",
       "      <td>Single</td>\n",
       "      <td>...</td>\n",
       "      <td>26 to 30</td>\n",
       "      <td>No</td>\n",
       "      <td>No</td>\n",
       "      <td>External</td>\n",
       "      <td>none</td>\n",
       "      <td>1 year</td>\n",
       "      <td>3 to 4</td>\n",
       "      <td>1994</td>\n",
       "      <td>Liability</td>\n",
       "      <td>0</td>\n",
       "    </tr>\n",
       "    <tr>\n",
       "      <th>1</th>\n",
       "      <td>Jan</td>\n",
       "      <td>3</td>\n",
       "      <td>Wednesday</td>\n",
       "      <td>Honda</td>\n",
       "      <td>Urban</td>\n",
       "      <td>Monday</td>\n",
       "      <td>Jan</td>\n",
       "      <td>4</td>\n",
       "      <td>Male</td>\n",
       "      <td>Single</td>\n",
       "      <td>...</td>\n",
       "      <td>31 to 35</td>\n",
       "      <td>Yes</td>\n",
       "      <td>No</td>\n",
       "      <td>External</td>\n",
       "      <td>none</td>\n",
       "      <td>no change</td>\n",
       "      <td>1 vehicle</td>\n",
       "      <td>1994</td>\n",
       "      <td>Collision</td>\n",
       "      <td>0</td>\n",
       "    </tr>\n",
       "    <tr>\n",
       "      <th>2</th>\n",
       "      <td>Oct</td>\n",
       "      <td>5</td>\n",
       "      <td>Friday</td>\n",
       "      <td>Honda</td>\n",
       "      <td>Urban</td>\n",
       "      <td>Thursday</td>\n",
       "      <td>Nov</td>\n",
       "      <td>2</td>\n",
       "      <td>Male</td>\n",
       "      <td>Married</td>\n",
       "      <td>...</td>\n",
       "      <td>41 to 50</td>\n",
       "      <td>No</td>\n",
       "      <td>No</td>\n",
       "      <td>External</td>\n",
       "      <td>none</td>\n",
       "      <td>no change</td>\n",
       "      <td>1 vehicle</td>\n",
       "      <td>1994</td>\n",
       "      <td>Collision</td>\n",
       "      <td>0</td>\n",
       "    </tr>\n",
       "    <tr>\n",
       "      <th>3</th>\n",
       "      <td>Jun</td>\n",
       "      <td>2</td>\n",
       "      <td>Saturday</td>\n",
       "      <td>Toyota</td>\n",
       "      <td>Rural</td>\n",
       "      <td>Friday</td>\n",
       "      <td>Jul</td>\n",
       "      <td>1</td>\n",
       "      <td>Male</td>\n",
       "      <td>Married</td>\n",
       "      <td>...</td>\n",
       "      <td>51 to 65</td>\n",
       "      <td>Yes</td>\n",
       "      <td>No</td>\n",
       "      <td>External</td>\n",
       "      <td>more than 5</td>\n",
       "      <td>no change</td>\n",
       "      <td>1 vehicle</td>\n",
       "      <td>1994</td>\n",
       "      <td>Liability</td>\n",
       "      <td>0</td>\n",
       "    </tr>\n",
       "    <tr>\n",
       "      <th>4</th>\n",
       "      <td>Jan</td>\n",
       "      <td>5</td>\n",
       "      <td>Monday</td>\n",
       "      <td>Honda</td>\n",
       "      <td>Urban</td>\n",
       "      <td>Tuesday</td>\n",
       "      <td>Feb</td>\n",
       "      <td>2</td>\n",
       "      <td>Female</td>\n",
       "      <td>Single</td>\n",
       "      <td>...</td>\n",
       "      <td>31 to 35</td>\n",
       "      <td>No</td>\n",
       "      <td>No</td>\n",
       "      <td>External</td>\n",
       "      <td>none</td>\n",
       "      <td>no change</td>\n",
       "      <td>1 vehicle</td>\n",
       "      <td>1994</td>\n",
       "      <td>Collision</td>\n",
       "      <td>0</td>\n",
       "    </tr>\n",
       "    <tr>\n",
       "      <th>5</th>\n",
       "      <td>Oct</td>\n",
       "      <td>4</td>\n",
       "      <td>Friday</td>\n",
       "      <td>Honda</td>\n",
       "      <td>Urban</td>\n",
       "      <td>Wednesday</td>\n",
       "      <td>Nov</td>\n",
       "      <td>1</td>\n",
       "      <td>Male</td>\n",
       "      <td>Single</td>\n",
       "      <td>...</td>\n",
       "      <td>21 to 25</td>\n",
       "      <td>No</td>\n",
       "      <td>No</td>\n",
       "      <td>External</td>\n",
       "      <td>3 to 5</td>\n",
       "      <td>no change</td>\n",
       "      <td>1 vehicle</td>\n",
       "      <td>1994</td>\n",
       "      <td>Collision</td>\n",
       "      <td>0</td>\n",
       "    </tr>\n",
       "    <tr>\n",
       "      <th>6</th>\n",
       "      <td>Feb</td>\n",
       "      <td>1</td>\n",
       "      <td>Saturday</td>\n",
       "      <td>Honda</td>\n",
       "      <td>Urban</td>\n",
       "      <td>Monday</td>\n",
       "      <td>Feb</td>\n",
       "      <td>3</td>\n",
       "      <td>Male</td>\n",
       "      <td>Married</td>\n",
       "      <td>...</td>\n",
       "      <td>36 to 40</td>\n",
       "      <td>No</td>\n",
       "      <td>No</td>\n",
       "      <td>External</td>\n",
       "      <td>1 to 2</td>\n",
       "      <td>no change</td>\n",
       "      <td>1 vehicle</td>\n",
       "      <td>1994</td>\n",
       "      <td>Collision</td>\n",
       "      <td>0</td>\n",
       "    </tr>\n",
       "    <tr>\n",
       "      <th>7</th>\n",
       "      <td>Nov</td>\n",
       "      <td>1</td>\n",
       "      <td>Friday</td>\n",
       "      <td>Honda</td>\n",
       "      <td>Urban</td>\n",
       "      <td>Tuesday</td>\n",
       "      <td>Mar</td>\n",
       "      <td>4</td>\n",
       "      <td>Male</td>\n",
       "      <td>Single</td>\n",
       "      <td>...</td>\n",
       "      <td>16 to 17</td>\n",
       "      <td>No</td>\n",
       "      <td>No</td>\n",
       "      <td>External</td>\n",
       "      <td>none</td>\n",
       "      <td>no change</td>\n",
       "      <td>1 vehicle</td>\n",
       "      <td>1994</td>\n",
       "      <td>Collision</td>\n",
       "      <td>0</td>\n",
       "    </tr>\n",
       "    <tr>\n",
       "      <th>8</th>\n",
       "      <td>Dec</td>\n",
       "      <td>4</td>\n",
       "      <td>Saturday</td>\n",
       "      <td>Honda</td>\n",
       "      <td>Urban</td>\n",
       "      <td>Wednesday</td>\n",
       "      <td>Dec</td>\n",
       "      <td>5</td>\n",
       "      <td>Male</td>\n",
       "      <td>Single</td>\n",
       "      <td>...</td>\n",
       "      <td>31 to 35</td>\n",
       "      <td>No</td>\n",
       "      <td>Yes</td>\n",
       "      <td>External</td>\n",
       "      <td>3 to 5</td>\n",
       "      <td>no change</td>\n",
       "      <td>1 vehicle</td>\n",
       "      <td>1994</td>\n",
       "      <td>Collision</td>\n",
       "      <td>0</td>\n",
       "    </tr>\n",
       "    <tr>\n",
       "      <th>9</th>\n",
       "      <td>Apr</td>\n",
       "      <td>3</td>\n",
       "      <td>Tuesday</td>\n",
       "      <td>Ford</td>\n",
       "      <td>Urban</td>\n",
       "      <td>Wednesday</td>\n",
       "      <td>Apr</td>\n",
       "      <td>3</td>\n",
       "      <td>Male</td>\n",
       "      <td>Married</td>\n",
       "      <td>...</td>\n",
       "      <td>36 to 40</td>\n",
       "      <td>No</td>\n",
       "      <td>No</td>\n",
       "      <td>External</td>\n",
       "      <td>3 to 5</td>\n",
       "      <td>no change</td>\n",
       "      <td>1 vehicle</td>\n",
       "      <td>1994</td>\n",
       "      <td>All Perils</td>\n",
       "      <td>0</td>\n",
       "    </tr>\n",
       "  </tbody>\n",
       "</table>\n",
       "<p>10 rows × 33 columns</p>\n",
       "</div>"
      ],
      "text/plain": [
       "  Month  WeekOfMonth  DayOfWeek    Make AccidentArea DayOfWeekClaimed  \\\n",
       "0   Dec            5  Wednesday   Honda        Urban          Tuesday   \n",
       "1   Jan            3  Wednesday   Honda        Urban           Monday   \n",
       "2   Oct            5     Friday   Honda        Urban         Thursday   \n",
       "3   Jun            2   Saturday  Toyota        Rural           Friday   \n",
       "4   Jan            5     Monday   Honda        Urban          Tuesday   \n",
       "5   Oct            4     Friday   Honda        Urban        Wednesday   \n",
       "6   Feb            1   Saturday   Honda        Urban           Monday   \n",
       "7   Nov            1     Friday   Honda        Urban          Tuesday   \n",
       "8   Dec            4   Saturday   Honda        Urban        Wednesday   \n",
       "9   Apr            3    Tuesday    Ford        Urban        Wednesday   \n",
       "\n",
       "  MonthClaimed  WeekOfMonthClaimed     Sex MaritalStatus  ...  \\\n",
       "0          Jan                   1  Female        Single  ...   \n",
       "1          Jan                   4    Male        Single  ...   \n",
       "2          Nov                   2    Male       Married  ...   \n",
       "3          Jul                   1    Male       Married  ...   \n",
       "4          Feb                   2  Female        Single  ...   \n",
       "5          Nov                   1    Male        Single  ...   \n",
       "6          Feb                   3    Male       Married  ...   \n",
       "7          Mar                   4    Male        Single  ...   \n",
       "8          Dec                   5    Male        Single  ...   \n",
       "9          Apr                   3    Male       Married  ...   \n",
       "\n",
       "   AgeOfPolicyHolder PoliceReportFiled WitnessPresent AgentType  \\\n",
       "0           26 to 30                No             No  External   \n",
       "1           31 to 35               Yes             No  External   \n",
       "2           41 to 50                No             No  External   \n",
       "3           51 to 65               Yes             No  External   \n",
       "4           31 to 35                No             No  External   \n",
       "5           21 to 25                No             No  External   \n",
       "6           36 to 40                No             No  External   \n",
       "7           16 to 17                No             No  External   \n",
       "8           31 to 35                No            Yes  External   \n",
       "9           36 to 40                No             No  External   \n",
       "\n",
       "  NumberOfSuppliments  AddressChange_Claim  NumberOfCars  Year  BasePolicy  \\\n",
       "0                none               1 year        3 to 4  1994   Liability   \n",
       "1                none            no change     1 vehicle  1994   Collision   \n",
       "2                none            no change     1 vehicle  1994   Collision   \n",
       "3         more than 5            no change     1 vehicle  1994   Liability   \n",
       "4                none            no change     1 vehicle  1994   Collision   \n",
       "5              3 to 5            no change     1 vehicle  1994   Collision   \n",
       "6              1 to 2            no change     1 vehicle  1994   Collision   \n",
       "7                none            no change     1 vehicle  1994   Collision   \n",
       "8              3 to 5            no change     1 vehicle  1994   Collision   \n",
       "9              3 to 5            no change     1 vehicle  1994  All Perils   \n",
       "\n",
       "  FraudFound_P  \n",
       "0            0  \n",
       "1            0  \n",
       "2            0  \n",
       "3            0  \n",
       "4            0  \n",
       "5            0  \n",
       "6            0  \n",
       "7            0  \n",
       "8            0  \n",
       "9            0  \n",
       "\n",
       "[10 rows x 33 columns]"
      ]
     },
     "execution_count": 4,
     "metadata": {},
     "output_type": "execute_result"
    }
   ],
   "source": [
    "import numpy as np\n",
    "import pandas as pd\n",
    "import matplotlib.pyplot as plt\n",
    "import seaborn as sns\n",
    "c_ins_csv=pd.read_csv('claims Original.csv')\n",
    "insur=pd.DataFrame(c_ins_csv)\n",
    "insur.head(10) #First 10 rows of the dataset"
   ]
  },
  {
   "cell_type": "code",
   "execution_count": 3,
   "metadata": {},
   "outputs": [],
   "source": [
    "insur['WeekOfMonth']=insur['WeekOfMonth'].astype('object')\n",
    "insur['WeekOfMonthClaimed']=insur['WeekOfMonthClaimed'].astype('object')\n",
    "insur['RepNumber']=insur['RepNumber'].astype('object')\n",
    "insur['Deductible']=insur['Deductible'].astype('object')\n",
    "insur['DriverRating']=insur['DriverRating'].astype('object')"
   ]
  },
  {
   "cell_type": "markdown",
   "metadata": {},
   "source": [
    "##### We are removing features 'Age', 'PolicyNumber' and 'Year'."
   ]
  },
  {
   "cell_type": "code",
   "execution_count": 347,
   "metadata": {},
   "outputs": [],
   "source": [
    "one_hot = pd.get_dummies(insur[['Month', 'WeekOfMonth', 'DayOfWeek', 'Make', 'AccidentArea','DayOfWeekClaimed', 'MonthClaimed', 'WeekOfMonthClaimed', 'Sex','MaritalStatus', 'Fault', 'PolicyType', 'VehicleCategory','VehiclePrice', 'RepNumber', 'Deductible', 'DriverRating','Days_Policy_Accident', 'Days_Policy_Claim','PastNumberOfClaims', 'AgeOfVehicle', 'AgeOfPolicyHolder','PoliceReportFiled', 'WitnessPresent', 'AgentType','NumberOfSuppliments', 'AddressChange_Claim', 'NumberOfCars','BasePolicy']], drop_first=True)\n",
    "one_hot=pd.DataFrame(one_hot)"
   ]
  },
  {
   "cell_type": "markdown",
   "metadata": {},
   "source": [
    "### Implementing SOM for outlier detection"
   ]
  },
  {
   "cell_type": "code",
   "execution_count": 73,
   "metadata": {},
   "outputs": [
    {
     "name": "stdout",
     "output_type": "stream",
     "text": [
      " [ 500 / 500 ] 100% - 0.00116 it/s - quantization error: 3.0958811728264237\n"
     ]
    },
    {
     "data": {
      "text/plain": [
       "<matplotlib.colorbar.Colorbar at 0x259f11c2828>"
      ]
     },
     "execution_count": 73,
     "metadata": {},
     "output_type": "execute_result"
    },
    {
     "data": {
      "image/png": "[encoded data removed]",
      "text/plain": [
       "<Figure size 432x288 with 2 Axes>"
      ]
     },
     "metadata": {
      "needs_background": "light"
     },
     "output_type": "display_data"
    }
   ],
   "source": [
    "from sklearn import preprocessing\n",
    "\n",
    "X=one_hot\n",
    "X=np.array(X)\n",
    "\n",
    "from minisom import MiniSom\n",
    "from pylab import bone, pcolor, colorbar, plot, show\n",
    "\n",
    "som=MiniSom(10,10,111,learning_rate=0.5,sigma=1.0)\n",
    "som.random_weights_init(X)\n",
    "som.train_random(X,num_iteration=500,verbose=True)\n",
    "bone()\n",
    "pcolor(som.distance_map().T)\n",
    "colorbar()"
   ]
  },
  {
   "cell_type": "code",
   "execution_count": 74,
   "metadata": {},
   "outputs": [],
   "source": [
    "mappings = som.win_map(X)\n",
    "#mappings"
   ]
  },
  {
   "cell_type": "code",
   "execution_count": 140,
   "metadata": {},
   "outputs": [
    {
     "data": {
      "text/plain": [
       "array([[0, 0, 0, ..., 0, 0, 0],\n",
       "       [0, 0, 1, ..., 0, 0, 0],\n",
       "       [0, 0, 0, ..., 0, 0, 0],\n",
       "       ...,\n",
       "       [0, 0, 0, ..., 0, 1, 0],\n",
       "       [1, 0, 0, ..., 0, 1, 0],\n",
       "       [0, 0, 0, ..., 0, 1, 0]], dtype=int64)"
      ]
     },
     "execution_count": 140,
     "metadata": {},
     "output_type": "execute_result"
    }
   ],
   "source": [
    "#frauds=mappings[(3,4)]\n",
    "frauds=np.concatenate((mappings[(3,4)], mappings[(2,5)], mappings[(2,3)], mappings[(1,4)], mappings[(4,2)], mappings[(4,4)], mappings[(8,8)], mappings[(3,5)], mappings[(2,2)], mappings[(5,8)], mappings[(4,3)], mappings[(4,5)], mappings[(2,4)]), axis=0)\n",
    "frauds"
   ]
  },
  {
   "cell_type": "code",
   "execution_count": 56,
   "metadata": {},
   "outputs": [],
   "source": [
    "np.savetxt(\"frauds_inss.csv\", frauds, delimiter=\",\")"
   ]
  },
  {
   "cell_type": "code",
   "execution_count": 141,
   "metadata": {},
   "outputs": [],
   "source": [
    "fraud_csv=pd.read_csv('frauds_inss.csv')\n",
    "fraud=pd.DataFrame(frauds)\n",
    "fraud=fraud.astype(int)"
   ]
  },
  {
   "cell_type": "code",
   "execution_count": 142,
   "metadata": {},
   "outputs": [],
   "source": [
    "arr=[]"
   ]
  },
  {
   "cell_type": "code",
   "execution_count": 145,
   "metadata": {},
   "outputs": [],
   "source": [
    "for i in range(1867):\n",
    "    arr=np.append(arr,one_hot[(one_hot==np.array(fraud.iloc[i:i+1])).all(axis=1)].index[0])"
   ]
  },
  {
   "cell_type": "code",
   "execution_count": 146,
   "metadata": {
    "scrolled": true
   },
   "outputs": [],
   "source": [
    "arr=arr.astype('int')"
   ]
  },
  {
   "cell_type": "code",
   "execution_count": 147,
   "metadata": {},
   "outputs": [],
   "source": [
    "one_hot['Fraud']=0\n",
    "\n",
    "for i in arr:\n",
    "    one_hot.at[i,'Fraud']=1\n",
    "\n",
    "pred=one_hot['Fraud']\n",
    "true=insur['FraudFound_P']"
   ]
  },
  {
   "cell_type": "code",
   "execution_count": 148,
   "metadata": {},
   "outputs": [
    {
     "name": "stdout",
     "output_type": "stream",
     "text": [
      "[[12790  1707]\n",
      " [  763   160]]\n",
      "\n",
      "\n",
      "Recall Score:-\n",
      "0.1733477789815818\n",
      "\n",
      "\n",
      "Precision Score:-\n",
      "0.0856989823245849\n",
      "\n",
      "\n",
      "F1 Score:-\n",
      "0.11469534050179213\n"
     ]
    }
   ],
   "source": [
    "print(confusion_matrix(true,pred))\n",
    "from sklearn.metrics import recall_score\n",
    "print(\"\\n\")\n",
    "print(\"Recall Score:-\")\n",
    "print(recall_score(true,pred))\n",
    "from sklearn.metrics import precision_score\n",
    "print(\"\\n\")\n",
    "print(\"Precision Score:-\")\n",
    "print(precision_score(true,pred))\n",
    "print(\"\\n\")\n",
    "print(\"F1 Score:-\")\n",
    "print(f1_score(true, pred))"
   ]
  },
  {
   "cell_type": "markdown",
   "metadata": {},
   "source": [
    "### Implementing DBSCAN"
   ]
  },
  {
   "cell_type": "code",
   "execution_count": 250,
   "metadata": {},
   "outputs": [
    {
     "data": {
      "text/plain": [
       "DBSCAN(algorithm='brute', eps=3, leaf_size=30, metric='euclidean',\n",
       "       metric_params=None, min_samples=3000, n_jobs=None, p=None)"
      ]
     },
     "execution_count": 250,
     "metadata": {},
     "output_type": "execute_result"
    }
   ],
   "source": [
    "import sklearn\n",
    "from sklearn.cluster import DBSCAN\n",
    "from collections import Counter\n",
    "\n",
    "ccsv=pd.read_csv('Trainnmod.csv')\n",
    "one_hot=pd.DataFrame(ccsv)\n",
    "\n",
    "model=DBSCAN(eps=3, min_samples=3000, algorithm='brute').fit(one_hot)\n",
    "model"
   ]
  },
  {
   "cell_type": "code",
   "execution_count": 252,
   "metadata": {},
   "outputs": [
    {
     "data": {
      "text/plain": [
       "Int64Index([    0,     3,     4,     5,     6,    14,    15,    19,    22,\n",
       "               23,\n",
       "            ...\n",
       "            15376, 15377, 15379, 15384, 15389, 15402, 15407, 15412, 15414,\n",
       "            15416],\n",
       "           dtype='int64', length=3882)"
      ]
     },
     "execution_count": 252,
     "metadata": {},
     "output_type": "execute_result"
    }
   ],
   "source": [
    "f_pred=outliers_df[model.labels_==-1].index #The ones labelled as -1 are the outliers\n",
    "f_pred"
   ]
  },
  {
   "cell_type": "code",
   "execution_count": 251,
   "metadata": {},
   "outputs": [],
   "source": [
    "outliers_df=pd.DataFrame(one_hot)"
   ]
  },
  {
   "cell_type": "code",
   "execution_count": 253,
   "metadata": {},
   "outputs": [],
   "source": [
    "one_hot['Fraud']=0"
   ]
  },
  {
   "cell_type": "code",
   "execution_count": 254,
   "metadata": {},
   "outputs": [],
   "source": [
    "for i in f_pred:\n",
    "    one_hot.at[i,'Fraud']=1"
   ]
  },
  {
   "cell_type": "code",
   "execution_count": 255,
   "metadata": {},
   "outputs": [
    {
     "name": "stdout",
     "output_type": "stream",
     "text": [
      "[[10740  3757]\n",
      " [  798   125]]\n",
      "\n",
      "\n",
      "Recall Score:-\n",
      "0.13542795232936078\n",
      "\n",
      "\n",
      "Precision Score:-\n",
      "0.032199896960329724\n",
      "\n",
      "\n",
      "F1 Score:-\n",
      "0.052029136316337155\n"
     ]
    }
   ],
   "source": [
    "pred=one_hot['Fraud']\n",
    "true=insur['FraudFound_P']\n",
    "\n",
    "print(confusion_matrix(true,pred))\n",
    "from sklearn.metrics import recall_score\n",
    "print(\"\\n\")\n",
    "print(\"Recall Score:-\")\n",
    "print(recall_score(true,pred))\n",
    "from sklearn.metrics import precision_score\n",
    "print(\"\\n\")\n",
    "print(\"Precision Score:-\")\n",
    "print(precision_score(true,pred))\n",
    "print(\"\\n\")\n",
    "print(\"F1 Score:-\")\n",
    "print(f1_score(true, pred))"
   ]
  },
  {
   "cell_type": "markdown",
   "metadata": {},
   "source": [
    "### Implementing Isolation Forest"
   ]
  },
  {
   "cell_type": "code",
   "execution_count": 271,
   "metadata": {},
   "outputs": [],
   "source": [
    "from sklearn.ensemble import IsolationForest"
   ]
  },
  {
   "cell_type": "code",
   "execution_count": 420,
   "metadata": {},
   "outputs": [],
   "source": [
    "alg=IsolationForest(n_estimators=100, max_samples=256, contamination=0.2, random_state=np.random.RandomState(42), verbose=0, behaviour=\"new\")"
   ]
  },
  {
   "cell_type": "code",
   "execution_count": 421,
   "metadata": {},
   "outputs": [],
   "source": [
    "aa=np.array(alg.fit_predict(one_hot))"
   ]
  },
  {
   "cell_type": "code",
   "execution_count": 422,
   "metadata": {},
   "outputs": [],
   "source": [
    "f_pred=np.where(aa==-1)"
   ]
  },
  {
   "cell_type": "code",
   "execution_count": 423,
   "metadata": {},
   "outputs": [],
   "source": [
    "one_hot['Fraud']=0"
   ]
  },
  {
   "cell_type": "code",
   "execution_count": 424,
   "metadata": {},
   "outputs": [],
   "source": [
    "for i in f_pred:\n",
    "    one_hot.at[i,'Fraud']=1"
   ]
  },
  {
   "cell_type": "code",
   "execution_count": 425,
   "metadata": {},
   "outputs": [],
   "source": [
    "pred=one_hot['Fraud']\n",
    "true=insur['FraudFound_P']"
   ]
  },
  {
   "cell_type": "code",
   "execution_count": 426,
   "metadata": {},
   "outputs": [
    {
     "data": {
      "text/plain": [
       "0.5100259096457436"
      ]
     },
     "execution_count": 426,
     "metadata": {},
     "output_type": "execute_result"
    }
   ],
   "source": [
    "roc_auc_score(true, pred)"
   ]
  },
  {
   "cell_type": "code",
   "execution_count": 427,
   "metadata": {},
   "outputs": [],
   "source": [
    "if_cm=confusion_matrix(true,pred)"
   ]
  },
  {
   "cell_type": "code",
   "execution_count": 428,
   "metadata": {},
   "outputs": [
    {
     "data": {
      "text/plain": [
       "<matplotlib.axes._subplots.AxesSubplot at 0x259810aa3c8>"
      ]
     },
     "execution_count": 428,
     "metadata": {},
     "output_type": "execute_result"
    },
    {
     "data": {
      "image/png": "[encoded data removed]",
      "text/plain": [
       "<Figure size 576x288 with 2 Axes>"
      ]
     },
     "metadata": {},
     "output_type": "display_data"
    }
   ],
   "source": [
    "df_cm = pd.DataFrame(if_cm, ['True Normal','True Fraud'],['Pred Normal','Pred Fraud'])\n",
    "plt.figure(figsize = (8,4))\n",
    "sns.set(font_scale=1.4)#for label size\n",
    "sns.heatmap(df_cm, annot=True,annot_kws={\"size\": 16},fmt='g')# font size"
   ]
  },
  {
   "cell_type": "code",
   "execution_count": 431,
   "metadata": {},
   "outputs": [
    {
     "name": "stdout",
     "output_type": "stream",
     "text": [
      "[[11615  2882]\n",
      " [  721   202]]\n",
      "\n",
      "\n",
      "Recall Score:-\n",
      "0.218851570964247\n",
      "\n",
      "\n",
      "Precision Score:-\n",
      "0.0654993514915694\n",
      "\n",
      "\n",
      "F1 Score:-\n",
      "0.10082355877214874\n"
     ]
    }
   ],
   "source": [
    "print(confusion_matrix(true,pred))\n",
    "from sklearn.metrics import recall_score\n",
    "print(\"\\n\")\n",
    "print(\"Recall Score:-\")\n",
    "print(recall_score(true,pred))\n",
    "from sklearn.metrics import precision_score\n",
    "print(\"\\n\")\n",
    "print(\"Precision Score:-\")\n",
    "print(precision_score(true,pred))\n",
    "print(\"\\n\")\n",
    "print(\"F1 Score:-\")\n",
    "print(f1_score(true, pred))"
   ]
  },
  {
   "cell_type": "code",
   "execution_count": 183,
   "metadata": {},
   "outputs": [],
   "source": [
    "import eif as iso\n",
    "\n",
    "eif=iso.iForest(one_hot.values, ntrees=100, sample_size=256, ExtensionLevel = one_hot.shape[1] - 1)\n",
    "anomaly_scores = eif.compute_paths(X_in = one_hot.values)\n",
    "anomaly_scores_sorted = np.argsort(anomaly_scores)\n",
    "indices_with_preds = anomaly_scores_sorted[-int(np.ceil(0.4 * one_hot.shape[0])):]"
   ]
  },
  {
   "cell_type": "code",
   "execution_count": 184,
   "metadata": {},
   "outputs": [
    {
     "name": "stdout",
     "output_type": "stream",
     "text": [
      "[[8604 5893]\n",
      " [ 648  275]]\n",
      "\n",
      "\n",
      "Recall Score:-\n",
      "0.2979414951245937\n",
      "\n",
      "\n",
      "Precision Score:-\n",
      "0.04458495460440986\n",
      "\n",
      "\n",
      "F1 Score:-\n",
      "0.07756310816527993\n"
     ]
    }
   ],
   "source": [
    "one_hot['Fraud']=0\n",
    "\n",
    "for i in indices_with_preds:\n",
    "    one_hot.at[i,'Fraud']=1\n",
    "\n",
    "pred=one_hot['Fraud']\n",
    "true=insur['FraudFound_P']\n",
    "\n",
    "print(confusion_matrix(true,pred))\n",
    "from sklearn.metrics import recall_score\n",
    "print(\"\\n\")\n",
    "print(\"Recall Score:-\")\n",
    "print(recall_score(true,pred))\n",
    "from sklearn.metrics import precision_score\n",
    "print(\"\\n\")\n",
    "print(\"Precision Score:-\")\n",
    "print(precision_score(true,pred))\n",
    "print(\"\\n\")\n",
    "print(\"F1 Score:-\")\n",
    "print(f1_score(true, pred))"
   ]
  },
  {
   "cell_type": "code",
   "execution_count": 139,
   "metadata": {},
   "outputs": [],
   "source": [
    "one_hot = pd.get_dummies(insur[['Month', 'Make', 'AccidentArea', 'MonthClaimed', 'Sex', 'Fault', 'PolicyType', 'VehicleCategory','VehiclePrice', 'Deductible','Days_Policy_Accident','PastNumberOfClaims', 'AgeOfVehicle', 'AgeOfPolicyHolder', 'AgentType','NumberOfSuppliments', 'AddressChange_Claim','BasePolicy']], drop_first=True)\n",
    "one_hot=pd.DataFrame(one_hot)"
   ]
  },
  {
   "cell_type": "code",
   "execution_count": 458,
   "metadata": {},
   "outputs": [],
   "source": [
    "ccsv=pd.read_csv('Trainnmod.csv')\n",
    "one_hot=pd.DataFrame(ccsv)"
   ]
  },
  {
   "cell_type": "markdown",
   "metadata": {},
   "source": [
    "### Implementing LOF (Local Outlier Factor)"
   ]
  },
  {
   "cell_type": "code",
   "execution_count": 459,
   "metadata": {},
   "outputs": [],
   "source": [
    "from sklearn.neighbors import LocalOutlierFactor"
   ]
  },
  {
   "cell_type": "code",
   "execution_count": 460,
   "metadata": {},
   "outputs": [],
   "source": [
    "alg=LocalOutlierFactor(n_neighbors=100, contamination=0.2, algorithm='auto')"
   ]
  },
  {
   "cell_type": "code",
   "execution_count": 461,
   "metadata": {},
   "outputs": [],
   "source": [
    "a=np.array(alg.fit_predict(one_hot))"
   ]
  },
  {
   "cell_type": "code",
   "execution_count": 462,
   "metadata": {},
   "outputs": [],
   "source": [
    "f_pred=np.where(a==-1)"
   ]
  },
  {
   "cell_type": "code",
   "execution_count": 463,
   "metadata": {},
   "outputs": [],
   "source": [
    "one_hot['Fraud']=0\n",
    "\n",
    "for i in f_pred:\n",
    "    one_hot.at[i,'Fraud']=1"
   ]
  },
  {
   "cell_type": "code",
   "execution_count": 464,
   "metadata": {},
   "outputs": [],
   "source": [
    "true=insur['FraudFound_P']\n",
    "pred=one_hot['Fraud']"
   ]
  },
  {
   "cell_type": "code",
   "execution_count": 465,
   "metadata": {},
   "outputs": [],
   "source": [
    "from sklearn.metrics import roc_auc_score\n",
    "from sklearn.metrics import confusion_matrix,f1_score\n",
    "\n",
    "if_cm=confusion_matrix(true,pred)"
   ]
  },
  {
   "cell_type": "code",
   "execution_count": 466,
   "metadata": {},
   "outputs": [
    {
     "name": "stdout",
     "output_type": "stream",
     "text": [
      "[[11634  2863]\n",
      " [  702   221]]\n",
      "\n",
      "\n",
      "Recall Score:-\n",
      "0.23943661971830985\n",
      "\n",
      "\n",
      "Precision Score:-\n",
      "0.07166018158236057\n",
      "\n",
      "\n",
      "F1 Score:-\n",
      "0.11030696281507363\n"
     ]
    }
   ],
   "source": [
    "print(confusion_matrix(true,pred))\n",
    "from sklearn.metrics import recall_score\n",
    "print(\"\\n\")\n",
    "print(\"Recall Score:-\")\n",
    "print(recall_score(true,pred))\n",
    "from sklearn.metrics import precision_score\n",
    "print(\"\\n\")\n",
    "print(\"Precision Score:-\")\n",
    "print(precision_score(true,pred))\n",
    "print(\"\\n\")\n",
    "print(\"F1 Score:-\")\n",
    "print(f1_score(true, pred))"
   ]
  },
  {
   "cell_type": "markdown",
   "metadata": {},
   "source": [
    "## Scores"
   ]
  },
  {
   "cell_type": "code",
   "execution_count": 1,
   "metadata": {},
   "outputs": [],
   "source": [
    "f1som=0.11469534050179213\n",
    "f1dbs=0.052029136316337155\n",
    "f1iso=0.10082355877214874\n",
    "f1lof=0.11030696281507363\n",
    "\n",
    "resom=0.1733477789815818\n",
    "redbs=0.13542795232936078\n",
    "reiso=0.218851570964247\n",
    "relof=0.23943661971830985\n",
    "\n",
    "prsom=0.0856989823245849\n",
    "prdbs=0.032199896960329724\n",
    "priso=0.0654993514915694\n",
    "prlof=0.07166018158236057"
   ]
  },
  {
   "cell_type": "code",
   "execution_count": 9,
   "metadata": {},
   "outputs": [],
   "source": [
    "f1_scores={\n",
    "    'SOM':f1som,\n",
    "    'DBS':f1dbs,\n",
    "    'ISO':f1iso,\n",
    "    'LOF':f1lof\n",
    "}\n",
    "\n",
    "re_scores={\n",
    "    'SOM':resom,\n",
    "    'DBS':redbs,\n",
    "    'ISO':reiso,\n",
    "    'LOF':relof\n",
    "}\n",
    "\n",
    "pr_scores={\n",
    "    'SOM':prsom,\n",
    "    'DBS':prdbs,\n",
    "    'ISO':priso,\n",
    "    'LOF':prlof\n",
    "}"
   ]
  },
  {
   "cell_type": "code",
   "execution_count": 5,
   "metadata": {},
   "outputs": [
    {
     "data": {
      "text/plain": [
       "Text(0.5, 0, 'F1 Score')"
      ]
     },
     "execution_count": 5,
     "metadata": {},
     "output_type": "execute_result"
    },
    {
     "data": {
      "image/png": "[encoded data removed]",
      "text/plain": [
       "<Figure size 432x288 with 1 Axes>"
      ]
     },
     "metadata": {
      "needs_background": "light"
     },
     "output_type": "display_data"
    }
   ],
   "source": [
    "plt.title('F1 Scores')\n",
    "plt.barh(range(len(f1_scores)), list(f1_scores.values()), align='center')\n",
    "plt.yticks(range(len(f1_scores)), list(f1_scores.keys()))\n",
    "plt.xlabel('F1 Score')"
   ]
  },
  {
   "cell_type": "code",
   "execution_count": 7,
   "metadata": {},
   "outputs": [
    {
     "data": {
      "text/plain": [
       "Text(0.5, 0, 'Recall Score')"
      ]
     },
     "execution_count": 7,
     "metadata": {},
     "output_type": "execute_result"
    },
    {
     "data": {
      "image/png": "[encoded data removed]",
      "text/plain": [
       "<Figure size 432x288 with 1 Axes>"
      ]
     },
     "metadata": {
      "needs_background": "light"
     },
     "output_type": "display_data"
    }
   ],
   "source": [
    "plt.title('Recall Scores')\n",
    "plt.barh(range(len(re_scores)), list(re_scores.values()), align='center')\n",
    "plt.yticks(range(len(re_scores)), list(re_scores.keys()))\n",
    "plt.xlabel('Recall Score')"
   ]
  },
  {
   "cell_type": "code",
   "execution_count": 10,
   "metadata": {},
   "outputs": [
    {
     "data": {
      "text/plain": [
       "Text(0.5, 0, 'Precision Score')"
      ]
     },
     "execution_count": 10,
     "metadata": {},
     "output_type": "execute_result"
    },
    {
     "data": {
      "image/png": "[encoded data removed]",
      "text/plain": [
       "<Figure size 432x288 with 1 Axes>"
      ]
     },
     "metadata": {
      "needs_background": "light"
     },
     "output_type": "display_data"
    }
   ],
   "source": [
    "plt.title('Precision Scores')\n",
    "plt.barh(range(len(pr_scores)), list(pr_scores.values()), align='center')\n",
    "plt.yticks(range(len(pr_scores)), list(pr_scores.keys()))\n",
    "plt.xlabel('Precision Score')"
   ]
  },
  {
   "cell_type": "code",
   "execution_count": null,
   "metadata": {},
   "outputs": [],
   "source": []
  }
 ],
 "metadata": {
  "kernelspec": {
   "display_name": "Python 3",
   "language": "python",
   "name": "python3"
  },
  "language_info": {
   "codemirror_mode": {
    "name": "ipython",
    "version": 3
   },
   "file_extension": ".py",
   "mimetype": "text/x-python",
   "name": "python",
   "nbconvert_exporter": "python",
   "pygments_lexer": "ipython3",
   "version": "3.6.8"
  }
 },
 "nbformat": 4,
 "nbformat_minor": 2
}
