{
 "cells": [
  {
   "cell_type": "code",
   "execution_count": 1,
   "metadata": {},
   "outputs": [
    {
     "data": {
      "text/html": [
       "<div>\n",
       "<style scoped>\n",
       "    .dataframe tbody tr th:only-of-type {\n",
       "        vertical-align: middle;\n",
       "    }\n",
       "\n",
       "    .dataframe tbody tr th {\n",
       "        vertical-align: top;\n",
       "    }\n",
       "\n",
       "    .dataframe thead th {\n",
       "        text-align: right;\n",
       "    }\n",
       "</style>\n",
       "<table border=\"1\" class=\"dataframe\">\n",
       "  <thead>\n",
       "    <tr style=\"text-align: right;\">\n",
       "      <th></th>\n",
       "      <th>Month</th>\n",
       "      <th>WeekOfMonth</th>\n",
       "      <th>DayOfWeek</th>\n",
       "      <th>Make</th>\n",
       "      <th>AccidentArea</th>\n",
       "      <th>DayOfWeekClaimed</th>\n",
       "      <th>MonthClaimed</th>\n",
       "      <th>WeekOfMonthClaimed</th>\n",
       "      <th>Sex</th>\n",
       "      <th>MaritalStatus</th>\n",
       "      <th>...</th>\n",
       "      <th>AgeOfPolicyHolder</th>\n",
       "      <th>PoliceReportFiled</th>\n",
       "      <th>WitnessPresent</th>\n",
       "      <th>AgentType</th>\n",
       "      <th>NumberOfSuppliments</th>\n",
       "      <th>AddressChange_Claim</th>\n",
       "      <th>NumberOfCars</th>\n",
       "      <th>Year</th>\n",
       "      <th>BasePolicy</th>\n",
       "      <th>FraudFound_P</th>\n",
       "    </tr>\n",
       "  </thead>\n",
       "  <tbody>\n",
       "    <tr>\n",
       "      <th>0</th>\n",
       "      <td>Dec</td>\n",
       "      <td>5</td>\n",
       "      <td>Wednesday</td>\n",
       "      <td>Honda</td>\n",
       "      <td>Urban</td>\n",
       "      <td>Tuesday</td>\n",
       "      <td>Jan</td>\n",
       "      <td>1</td>\n",
       "      <td>Female</td>\n",
       "      <td>Single</td>\n",
       "      <td>...</td>\n",
       "      <td>26 to 30</td>\n",
       "      <td>No</td>\n",
       "      <td>No</td>\n",
       "      <td>External</td>\n",
       "      <td>none</td>\n",
       "      <td>1 year</td>\n",
       "      <td>3 to 4</td>\n",
       "      <td>1994</td>\n",
       "      <td>Liability</td>\n",
       "      <td>0</td>\n",
       "    </tr>\n",
       "    <tr>\n",
       "      <th>1</th>\n",
       "      <td>Jan</td>\n",
       "      <td>3</td>\n",
       "      <td>Wednesday</td>\n",
       "      <td>Honda</td>\n",
       "      <td>Urban</td>\n",
       "      <td>Monday</td>\n",
       "      <td>Jan</td>\n",
       "      <td>4</td>\n",
       "      <td>Male</td>\n",
       "      <td>Single</td>\n",
       "      <td>...</td>\n",
       "      <td>31 to 35</td>\n",
       "      <td>Yes</td>\n",
       "      <td>No</td>\n",
       "      <td>External</td>\n",
       "      <td>none</td>\n",
       "      <td>no change</td>\n",
       "      <td>1 vehicle</td>\n",
       "      <td>1994</td>\n",
       "      <td>Collision</td>\n",
       "      <td>0</td>\n",
       "    </tr>\n",
       "    <tr>\n",
       "      <th>2</th>\n",
       "      <td>Oct</td>\n",
       "      <td>5</td>\n",
       "      <td>Friday</td>\n",
       "      <td>Honda</td>\n",
       "      <td>Urban</td>\n",
       "      <td>Thursday</td>\n",
       "      <td>Nov</td>\n",
       "      <td>2</td>\n",
       "      <td>Male</td>\n",
       "      <td>Married</td>\n",
       "      <td>...</td>\n",
       "      <td>41 to 50</td>\n",
       "      <td>No</td>\n",
       "      <td>No</td>\n",
       "      <td>External</td>\n",
       "      <td>none</td>\n",
       "      <td>no change</td>\n",
       "      <td>1 vehicle</td>\n",
       "      <td>1994</td>\n",
       "      <td>Collision</td>\n",
       "      <td>0</td>\n",
       "    </tr>\n",
       "    <tr>\n",
       "      <th>3</th>\n",
       "      <td>Jun</td>\n",
       "      <td>2</td>\n",
       "      <td>Saturday</td>\n",
       "      <td>Toyota</td>\n",
       "      <td>Rural</td>\n",
       "      <td>Friday</td>\n",
       "      <td>Jul</td>\n",
       "      <td>1</td>\n",
       "      <td>Male</td>\n",
       "      <td>Married</td>\n",
       "      <td>...</td>\n",
       "      <td>51 to 65</td>\n",
       "      <td>Yes</td>\n",
       "      <td>No</td>\n",
       "      <td>External</td>\n",
       "      <td>more than 5</td>\n",
       "      <td>no change</td>\n",
       "      <td>1 vehicle</td>\n",
       "      <td>1994</td>\n",
       "      <td>Liability</td>\n",
       "      <td>0</td>\n",
       "    </tr>\n",
       "    <tr>\n",
       "      <th>4</th>\n",
       "      <td>Jan</td>\n",
       "      <td>5</td>\n",
       "      <td>Monday</td>\n",
       "      <td>Honda</td>\n",
       "      <td>Urban</td>\n",
       "      <td>Tuesday</td>\n",
       "      <td>Feb</td>\n",
       "      <td>2</td>\n",
       "      <td>Female</td>\n",
       "      <td>Single</td>\n",
       "      <td>...</td>\n",
       "      <td>31 to 35</td>\n",
       "      <td>No</td>\n",
       "      <td>No</td>\n",
       "      <td>External</td>\n",
       "      <td>none</td>\n",
       "      <td>no change</td>\n",
       "      <td>1 vehicle</td>\n",
       "      <td>1994</td>\n",
       "      <td>Collision</td>\n",
       "      <td>0</td>\n",
       "    </tr>\n",
       "    <tr>\n",
       "      <th>5</th>\n",
       "      <td>Oct</td>\n",
       "      <td>4</td>\n",
       "      <td>Friday</td>\n",
       "      <td>Honda</td>\n",
       "      <td>Urban</td>\n",
       "      <td>Wednesday</td>\n",
       "      <td>Nov</td>\n",
       "      <td>1</td>\n",
       "      <td>Male</td>\n",
       "      <td>Single</td>\n",
       "      <td>...</td>\n",
       "      <td>21 to 25</td>\n",
       "      <td>No</td>\n",
       "      <td>No</td>\n",
       "      <td>External</td>\n",
       "      <td>3 to 5</td>\n",
       "      <td>no change</td>\n",
       "      <td>1 vehicle</td>\n",
       "      <td>1994</td>\n",
       "      <td>Collision</td>\n",
       "      <td>0</td>\n",
       "    </tr>\n",
       "    <tr>\n",
       "      <th>6</th>\n",
       "      <td>Feb</td>\n",
       "      <td>1</td>\n",
       "      <td>Saturday</td>\n",
       "      <td>Honda</td>\n",
       "      <td>Urban</td>\n",
       "      <td>Monday</td>\n",
       "      <td>Feb</td>\n",
       "      <td>3</td>\n",
       "      <td>Male</td>\n",
       "      <td>Married</td>\n",
       "      <td>...</td>\n",
       "      <td>36 to 40</td>\n",
       "      <td>No</td>\n",
       "      <td>No</td>\n",
       "      <td>External</td>\n",
       "      <td>1 to 2</td>\n",
       "      <td>no change</td>\n",
       "      <td>1 vehicle</td>\n",
       "      <td>1994</td>\n",
       "      <td>Collision</td>\n",
       "      <td>0</td>\n",
       "    </tr>\n",
       "    <tr>\n",
       "      <th>7</th>\n",
       "      <td>Nov</td>\n",
       "      <td>1</td>\n",
       "      <td>Friday</td>\n",
       "      <td>Honda</td>\n",
       "      <td>Urban</td>\n",
       "      <td>Tuesday</td>\n",
       "      <td>Mar</td>\n",
       "      <td>4</td>\n",
       "      <td>Male</td>\n",
       "      <td>Single</td>\n",
       "      <td>...</td>\n",
       "      <td>16 to 17</td>\n",
       "      <td>No</td>\n",
       "      <td>No</td>\n",
       "      <td>External</td>\n",
       "      <td>none</td>\n",
       "      <td>no change</td>\n",
       "      <td>1 vehicle</td>\n",
       "      <td>1994</td>\n",
       "      <td>Collision</td>\n",
       "      <td>0</td>\n",
       "    </tr>\n",
       "    <tr>\n",
       "      <th>8</th>\n",
       "      <td>Dec</td>\n",
       "      <td>4</td>\n",
       "      <td>Saturday</td>\n",
       "      <td>Honda</td>\n",
       "      <td>Urban</td>\n",
       "      <td>Wednesday</td>\n",
       "      <td>Dec</td>\n",
       "      <td>5</td>\n",
       "      <td>Male</td>\n",
       "      <td>Single</td>\n",
       "      <td>...</td>\n",
       "      <td>31 to 35</td>\n",
       "      <td>No</td>\n",
       "      <td>Yes</td>\n",
       "      <td>External</td>\n",
       "      <td>3 to 5</td>\n",
       "      <td>no change</td>\n",
       "      <td>1 vehicle</td>\n",
       "      <td>1994</td>\n",
       "      <td>Collision</td>\n",
       "      <td>0</td>\n",
       "    </tr>\n",
       "    <tr>\n",
       "      <th>9</th>\n",
       "      <td>Apr</td>\n",
       "      <td>3</td>\n",
       "      <td>Tuesday</td>\n",
       "      <td>Ford</td>\n",
       "      <td>Urban</td>\n",
       "      <td>Wednesday</td>\n",
       "      <td>Apr</td>\n",
       "      <td>3</td>\n",
       "      <td>Male</td>\n",
       "      <td>Married</td>\n",
       "      <td>...</td>\n",
       "      <td>36 to 40</td>\n",
       "      <td>No</td>\n",
       "      <td>No</td>\n",
       "      <td>External</td>\n",
       "      <td>3 to 5</td>\n",
       "      <td>no change</td>\n",
       "      <td>1 vehicle</td>\n",
       "      <td>1994</td>\n",
       "      <td>All Perils</td>\n",
       "      <td>0</td>\n",
       "    </tr>\n",
       "  </tbody>\n",
       "</table>\n",
       "<p>10 rows × 33 columns</p>\n",
       "</div>"
      ],
      "text/plain": [
       "  Month  WeekOfMonth  DayOfWeek    Make AccidentArea DayOfWeekClaimed  \\\n",
       "0   Dec            5  Wednesday   Honda        Urban          Tuesday   \n",
       "1   Jan            3  Wednesday   Honda        Urban           Monday   \n",
       "2   Oct            5     Friday   Honda        Urban         Thursday   \n",
       "3   Jun            2   Saturday  Toyota        Rural           Friday   \n",
       "4   Jan            5     Monday   Honda        Urban          Tuesday   \n",
       "5   Oct            4     Friday   Honda        Urban        Wednesday   \n",
       "6   Feb            1   Saturday   Honda        Urban           Monday   \n",
       "7   Nov            1     Friday   Honda        Urban          Tuesday   \n",
       "8   Dec            4   Saturday   Honda        Urban        Wednesday   \n",
       "9   Apr            3    Tuesday    Ford        Urban        Wednesday   \n",
       "\n",
       "  MonthClaimed  WeekOfMonthClaimed     Sex MaritalStatus  ...  \\\n",
       "0          Jan                   1  Female        Single  ...   \n",
       "1          Jan                   4    Male        Single  ...   \n",
       "2          Nov                   2    Male       Married  ...   \n",
       "3          Jul                   1    Male       Married  ...   \n",
       "4          Feb                   2  Female        Single  ...   \n",
       "5          Nov                   1    Male        Single  ...   \n",
       "6          Feb                   3    Male       Married  ...   \n",
       "7          Mar                   4    Male        Single  ...   \n",
       "8          Dec                   5    Male        Single  ...   \n",
       "9          Apr                   3    Male       Married  ...   \n",
       "\n",
       "   AgeOfPolicyHolder PoliceReportFiled WitnessPresent AgentType  \\\n",
       "0           26 to 30                No             No  External   \n",
       "1           31 to 35               Yes             No  External   \n",
       "2           41 to 50                No             No  External   \n",
       "3           51 to 65               Yes             No  External   \n",
       "4           31 to 35                No             No  External   \n",
       "5           21 to 25                No             No  External   \n",
       "6           36 to 40                No             No  External   \n",
       "7           16 to 17                No             No  External   \n",
       "8           31 to 35                No            Yes  External   \n",
       "9           36 to 40                No             No  External   \n",
       "\n",
       "  NumberOfSuppliments  AddressChange_Claim  NumberOfCars  Year  BasePolicy  \\\n",
       "0                none               1 year        3 to 4  1994   Liability   \n",
       "1                none            no change     1 vehicle  1994   Collision   \n",
       "2                none            no change     1 vehicle  1994   Collision   \n",
       "3         more than 5            no change     1 vehicle  1994   Liability   \n",
       "4                none            no change     1 vehicle  1994   Collision   \n",
       "5              3 to 5            no change     1 vehicle  1994   Collision   \n",
       "6              1 to 2            no change     1 vehicle  1994   Collision   \n",
       "7                none            no change     1 vehicle  1994   Collision   \n",
       "8              3 to 5            no change     1 vehicle  1994   Collision   \n",
       "9              3 to 5            no change     1 vehicle  1994  All Perils   \n",
       "\n",
       "  FraudFound_P  \n",
       "0            0  \n",
       "1            0  \n",
       "2            0  \n",
       "3            0  \n",
       "4            0  \n",
       "5            0  \n",
       "6            0  \n",
       "7            0  \n",
       "8            0  \n",
       "9            0  \n",
       "\n",
       "[10 rows x 33 columns]"
      ]
     },
     "execution_count": 1,
     "metadata": {},
     "output_type": "execute_result"
    }
   ],
   "source": [
    "import numpy as np\n",
    "import pandas as pd\n",
    "import matplotlib.pyplot as plt\n",
    "import seaborn as sns\n",
    "c_ins_csv=pd.read_csv('claims Original.csv')\n",
    "insur=pd.DataFrame(c_ins_csv)\n",
    "insur.head(10) #First 10 rows of the dataset"
   ]
  },
  {
   "cell_type": "code",
   "execution_count": 2,
   "metadata": {},
   "outputs": [
    {
     "data": {
      "text/plain": [
       "(15420, 33)"
      ]
     },
     "execution_count": 2,
     "metadata": {},
     "output_type": "execute_result"
    }
   ],
   "source": [
    "insur.shape"
   ]
  },
  {
   "cell_type": "markdown",
   "metadata": {},
   "source": [
    "There are 15420 observations.\n",
    "There are 33 features. Out of which 32 are independent features, and 1 ('FraudFound_P') is a dependent feature."
   ]
  },
  {
   "cell_type": "code",
   "execution_count": 3,
   "metadata": {},
   "outputs": [
    {
     "name": "stdout",
     "output_type": "stream",
     "text": [
      "<class 'pandas.core.frame.DataFrame'>\n",
      "RangeIndex: 15420 entries, 0 to 15419\n",
      "Data columns (total 33 columns):\n",
      "Month                   15420 non-null object\n",
      "WeekOfMonth             15420 non-null int64\n",
      "DayOfWeek               15420 non-null object\n",
      "Make                    15420 non-null object\n",
      "AccidentArea            15420 non-null object\n",
      "DayOfWeekClaimed        15420 non-null object\n",
      "MonthClaimed            15420 non-null object\n",
      "WeekOfMonthClaimed      15420 non-null int64\n",
      "Sex                     15420 non-null object\n",
      "MaritalStatus           15420 non-null object\n",
      "Age                     15420 non-null int64\n",
      "Fault                   15420 non-null object\n",
      "PolicyType              15420 non-null object\n",
      "VehicleCategory         15420 non-null object\n",
      "VehiclePrice            15420 non-null object\n",
      "PolicyNumber            15420 non-null int64\n",
      "RepNumber               15420 non-null int64\n",
      "Deductible              15420 non-null int64\n",
      "DriverRating            15420 non-null int64\n",
      "Days_Policy_Accident    15420 non-null object\n",
      "Days_Policy_Claim       15420 non-null object\n",
      "PastNumberOfClaims      15420 non-null object\n",
      "AgeOfVehicle            15420 non-null object\n",
      "AgeOfPolicyHolder       15420 non-null object\n",
      "PoliceReportFiled       15420 non-null object\n",
      "WitnessPresent          15420 non-null object\n",
      "AgentType               15420 non-null object\n",
      "NumberOfSuppliments     15420 non-null object\n",
      "AddressChange_Claim     15420 non-null object\n",
      "NumberOfCars            15420 non-null object\n",
      "Year                    15420 non-null int64\n",
      "BasePolicy              15420 non-null object\n",
      "FraudFound_P            15420 non-null int64\n",
      "dtypes: int64(9), object(24)\n",
      "memory usage: 3.9+ MB\n"
     ]
    }
   ],
   "source": [
    "insur.info()"
   ]
  },
  {
   "cell_type": "markdown",
   "metadata": {},
   "source": [
    "The dataset contains only integer and object data types."
   ]
  },
  {
   "cell_type": "code",
   "execution_count": 4,
   "metadata": {
    "scrolled": true
   },
   "outputs": [
    {
     "data": {
      "text/plain": [
       "<matplotlib.axes._subplots.AxesSubplot at 0x1f9213ede80>"
      ]
     },
     "execution_count": 4,
     "metadata": {},
     "output_type": "execute_result"
    },
    {
     "data": {
      "image/png": "[encoded data removed]",
      "text/plain": [
       "<Figure size 432x288 with 1 Axes>"
      ]
     },
     "metadata": {
      "needs_background": "light"
     },
     "output_type": "display_data"
    }
   ],
   "source": [
    "#Visualising the missing values in the dataset using seaborn.heatmap\n",
    "sns.heatmap(insur.isnull(), cbar=False)"
   ]
  },
  {
   "cell_type": "markdown",
   "metadata": {},
   "source": [
    "There are no missing elements present in the dataset."
   ]
  },
  {
   "cell_type": "code",
   "execution_count": 5,
   "metadata": {},
   "outputs": [
    {
     "data": {
      "text/html": [
       "<div>\n",
       "<style scoped>\n",
       "    .dataframe tbody tr th:only-of-type {\n",
       "        vertical-align: middle;\n",
       "    }\n",
       "\n",
       "    .dataframe tbody tr th {\n",
       "        vertical-align: top;\n",
       "    }\n",
       "\n",
       "    .dataframe thead th {\n",
       "        text-align: right;\n",
       "    }\n",
       "</style>\n",
       "<table border=\"1\" class=\"dataframe\">\n",
       "  <thead>\n",
       "    <tr style=\"text-align: right;\">\n",
       "      <th></th>\n",
       "      <th>WeekOfMonth</th>\n",
       "      <th>WeekOfMonthClaimed</th>\n",
       "      <th>Age</th>\n",
       "      <th>PolicyNumber</th>\n",
       "      <th>RepNumber</th>\n",
       "      <th>Deductible</th>\n",
       "      <th>DriverRating</th>\n",
       "      <th>Year</th>\n",
       "      <th>FraudFound_P</th>\n",
       "    </tr>\n",
       "  </thead>\n",
       "  <tbody>\n",
       "    <tr>\n",
       "      <th>count</th>\n",
       "      <td>15420.000000</td>\n",
       "      <td>15420.000000</td>\n",
       "      <td>15420.000000</td>\n",
       "      <td>15420.000000</td>\n",
       "      <td>15420.000000</td>\n",
       "      <td>15420.000000</td>\n",
       "      <td>15420.000000</td>\n",
       "      <td>15420.000000</td>\n",
       "      <td>15420.000000</td>\n",
       "    </tr>\n",
       "    <tr>\n",
       "      <th>mean</th>\n",
       "      <td>2.788586</td>\n",
       "      <td>2.693969</td>\n",
       "      <td>39.855707</td>\n",
       "      <td>7710.500000</td>\n",
       "      <td>8.483268</td>\n",
       "      <td>407.704280</td>\n",
       "      <td>2.487808</td>\n",
       "      <td>1994.866472</td>\n",
       "      <td>0.059857</td>\n",
       "    </tr>\n",
       "    <tr>\n",
       "      <th>std</th>\n",
       "      <td>1.287585</td>\n",
       "      <td>1.259115</td>\n",
       "      <td>13.492377</td>\n",
       "      <td>4451.514911</td>\n",
       "      <td>4.599948</td>\n",
       "      <td>43.950998</td>\n",
       "      <td>1.119453</td>\n",
       "      <td>0.803313</td>\n",
       "      <td>0.237230</td>\n",
       "    </tr>\n",
       "    <tr>\n",
       "      <th>min</th>\n",
       "      <td>1.000000</td>\n",
       "      <td>1.000000</td>\n",
       "      <td>0.000000</td>\n",
       "      <td>1.000000</td>\n",
       "      <td>1.000000</td>\n",
       "      <td>300.000000</td>\n",
       "      <td>1.000000</td>\n",
       "      <td>1994.000000</td>\n",
       "      <td>0.000000</td>\n",
       "    </tr>\n",
       "    <tr>\n",
       "      <th>25%</th>\n",
       "      <td>2.000000</td>\n",
       "      <td>2.000000</td>\n",
       "      <td>31.000000</td>\n",
       "      <td>3855.750000</td>\n",
       "      <td>5.000000</td>\n",
       "      <td>400.000000</td>\n",
       "      <td>1.000000</td>\n",
       "      <td>1994.000000</td>\n",
       "      <td>0.000000</td>\n",
       "    </tr>\n",
       "    <tr>\n",
       "      <th>50%</th>\n",
       "      <td>3.000000</td>\n",
       "      <td>3.000000</td>\n",
       "      <td>38.000000</td>\n",
       "      <td>7710.500000</td>\n",
       "      <td>8.000000</td>\n",
       "      <td>400.000000</td>\n",
       "      <td>2.000000</td>\n",
       "      <td>1995.000000</td>\n",
       "      <td>0.000000</td>\n",
       "    </tr>\n",
       "    <tr>\n",
       "      <th>75%</th>\n",
       "      <td>4.000000</td>\n",
       "      <td>4.000000</td>\n",
       "      <td>48.000000</td>\n",
       "      <td>11565.250000</td>\n",
       "      <td>12.000000</td>\n",
       "      <td>400.000000</td>\n",
       "      <td>3.000000</td>\n",
       "      <td>1996.000000</td>\n",
       "      <td>0.000000</td>\n",
       "    </tr>\n",
       "    <tr>\n",
       "      <th>max</th>\n",
       "      <td>5.000000</td>\n",
       "      <td>5.000000</td>\n",
       "      <td>80.000000</td>\n",
       "      <td>15420.000000</td>\n",
       "      <td>16.000000</td>\n",
       "      <td>700.000000</td>\n",
       "      <td>4.000000</td>\n",
       "      <td>1996.000000</td>\n",
       "      <td>1.000000</td>\n",
       "    </tr>\n",
       "  </tbody>\n",
       "</table>\n",
       "</div>"
      ],
      "text/plain": [
       "        WeekOfMonth  WeekOfMonthClaimed           Age  PolicyNumber  \\\n",
       "count  15420.000000        15420.000000  15420.000000  15420.000000   \n",
       "mean       2.788586            2.693969     39.855707   7710.500000   \n",
       "std        1.287585            1.259115     13.492377   4451.514911   \n",
       "min        1.000000            1.000000      0.000000      1.000000   \n",
       "25%        2.000000            2.000000     31.000000   3855.750000   \n",
       "50%        3.000000            3.000000     38.000000   7710.500000   \n",
       "75%        4.000000            4.000000     48.000000  11565.250000   \n",
       "max        5.000000            5.000000     80.000000  15420.000000   \n",
       "\n",
       "          RepNumber    Deductible  DriverRating          Year  FraudFound_P  \n",
       "count  15420.000000  15420.000000  15420.000000  15420.000000  15420.000000  \n",
       "mean       8.483268    407.704280      2.487808   1994.866472      0.059857  \n",
       "std        4.599948     43.950998      1.119453      0.803313      0.237230  \n",
       "min        1.000000    300.000000      1.000000   1994.000000      0.000000  \n",
       "25%        5.000000    400.000000      1.000000   1994.000000      0.000000  \n",
       "50%        8.000000    400.000000      2.000000   1995.000000      0.000000  \n",
       "75%       12.000000    400.000000      3.000000   1996.000000      0.000000  \n",
       "max       16.000000    700.000000      4.000000   1996.000000      1.000000  "
      ]
     },
     "execution_count": 5,
     "metadata": {},
     "output_type": "execute_result"
    }
   ],
   "source": [
    "insur.describe()"
   ]
  },
  {
   "cell_type": "code",
   "execution_count": 6,
   "metadata": {},
   "outputs": [
    {
     "data": {
      "text/html": [
       "<div>\n",
       "<style scoped>\n",
       "    .dataframe tbody tr th:only-of-type {\n",
       "        vertical-align: middle;\n",
       "    }\n",
       "\n",
       "    .dataframe tbody tr th {\n",
       "        vertical-align: top;\n",
       "    }\n",
       "\n",
       "    .dataframe thead th {\n",
       "        text-align: right;\n",
       "    }\n",
       "</style>\n",
       "<table border=\"1\" class=\"dataframe\">\n",
       "  <thead>\n",
       "    <tr style=\"text-align: right;\">\n",
       "      <th></th>\n",
       "      <th>Month</th>\n",
       "      <th>DayOfWeek</th>\n",
       "      <th>Make</th>\n",
       "      <th>AccidentArea</th>\n",
       "      <th>DayOfWeekClaimed</th>\n",
       "      <th>MonthClaimed</th>\n",
       "      <th>Sex</th>\n",
       "      <th>MaritalStatus</th>\n",
       "      <th>Fault</th>\n",
       "      <th>PolicyType</th>\n",
       "      <th>...</th>\n",
       "      <th>PastNumberOfClaims</th>\n",
       "      <th>AgeOfVehicle</th>\n",
       "      <th>AgeOfPolicyHolder</th>\n",
       "      <th>PoliceReportFiled</th>\n",
       "      <th>WitnessPresent</th>\n",
       "      <th>AgentType</th>\n",
       "      <th>NumberOfSuppliments</th>\n",
       "      <th>AddressChange_Claim</th>\n",
       "      <th>NumberOfCars</th>\n",
       "      <th>BasePolicy</th>\n",
       "    </tr>\n",
       "  </thead>\n",
       "  <tbody>\n",
       "    <tr>\n",
       "      <th>count</th>\n",
       "      <td>15420</td>\n",
       "      <td>15420</td>\n",
       "      <td>15420</td>\n",
       "      <td>15420</td>\n",
       "      <td>15420</td>\n",
       "      <td>15420</td>\n",
       "      <td>15420</td>\n",
       "      <td>15420</td>\n",
       "      <td>15420</td>\n",
       "      <td>15420</td>\n",
       "      <td>...</td>\n",
       "      <td>15420</td>\n",
       "      <td>15420</td>\n",
       "      <td>15420</td>\n",
       "      <td>15420</td>\n",
       "      <td>15420</td>\n",
       "      <td>15420</td>\n",
       "      <td>15420</td>\n",
       "      <td>15420</td>\n",
       "      <td>15420</td>\n",
       "      <td>15420</td>\n",
       "    </tr>\n",
       "    <tr>\n",
       "      <th>unique</th>\n",
       "      <td>12</td>\n",
       "      <td>7</td>\n",
       "      <td>19</td>\n",
       "      <td>2</td>\n",
       "      <td>8</td>\n",
       "      <td>13</td>\n",
       "      <td>2</td>\n",
       "      <td>4</td>\n",
       "      <td>2</td>\n",
       "      <td>9</td>\n",
       "      <td>...</td>\n",
       "      <td>4</td>\n",
       "      <td>8</td>\n",
       "      <td>9</td>\n",
       "      <td>2</td>\n",
       "      <td>2</td>\n",
       "      <td>2</td>\n",
       "      <td>4</td>\n",
       "      <td>5</td>\n",
       "      <td>5</td>\n",
       "      <td>3</td>\n",
       "    </tr>\n",
       "    <tr>\n",
       "      <th>top</th>\n",
       "      <td>Jan</td>\n",
       "      <td>Monday</td>\n",
       "      <td>Pontiac</td>\n",
       "      <td>Urban</td>\n",
       "      <td>Monday</td>\n",
       "      <td>Jan</td>\n",
       "      <td>Male</td>\n",
       "      <td>Married</td>\n",
       "      <td>Policy Holder</td>\n",
       "      <td>Sedan - Collision</td>\n",
       "      <td>...</td>\n",
       "      <td>2 to 4</td>\n",
       "      <td>7 years</td>\n",
       "      <td>31 to 35</td>\n",
       "      <td>No</td>\n",
       "      <td>No</td>\n",
       "      <td>External</td>\n",
       "      <td>none</td>\n",
       "      <td>no change</td>\n",
       "      <td>1 vehicle</td>\n",
       "      <td>Collision</td>\n",
       "    </tr>\n",
       "    <tr>\n",
       "      <th>freq</th>\n",
       "      <td>1411</td>\n",
       "      <td>2616</td>\n",
       "      <td>3837</td>\n",
       "      <td>13822</td>\n",
       "      <td>3757</td>\n",
       "      <td>1446</td>\n",
       "      <td>13000</td>\n",
       "      <td>10625</td>\n",
       "      <td>11230</td>\n",
       "      <td>5584</td>\n",
       "      <td>...</td>\n",
       "      <td>5485</td>\n",
       "      <td>5807</td>\n",
       "      <td>5593</td>\n",
       "      <td>14992</td>\n",
       "      <td>15333</td>\n",
       "      <td>15179</td>\n",
       "      <td>7047</td>\n",
       "      <td>14324</td>\n",
       "      <td>14316</td>\n",
       "      <td>5962</td>\n",
       "    </tr>\n",
       "  </tbody>\n",
       "</table>\n",
       "<p>4 rows × 24 columns</p>\n",
       "</div>"
      ],
      "text/plain": [
       "        Month DayOfWeek     Make AccidentArea DayOfWeekClaimed MonthClaimed  \\\n",
       "count   15420     15420    15420        15420            15420        15420   \n",
       "unique     12         7       19            2                8           13   \n",
       "top       Jan    Monday  Pontiac        Urban           Monday          Jan   \n",
       "freq     1411      2616     3837        13822             3757         1446   \n",
       "\n",
       "          Sex MaritalStatus          Fault         PolicyType  ...  \\\n",
       "count   15420         15420          15420              15420  ...   \n",
       "unique      2             4              2                  9  ...   \n",
       "top      Male       Married  Policy Holder  Sedan - Collision  ...   \n",
       "freq    13000         10625          11230               5584  ...   \n",
       "\n",
       "       PastNumberOfClaims AgeOfVehicle AgeOfPolicyHolder PoliceReportFiled  \\\n",
       "count               15420        15420             15420             15420   \n",
       "unique                  4            8                 9                 2   \n",
       "top                2 to 4      7 years          31 to 35                No   \n",
       "freq                 5485         5807              5593             14992   \n",
       "\n",
       "       WitnessPresent AgentType NumberOfSuppliments AddressChange_Claim  \\\n",
       "count           15420     15420               15420               15420   \n",
       "unique              2         2                   4                   5   \n",
       "top                No  External                none           no change   \n",
       "freq            15333     15179                7047               14324   \n",
       "\n",
       "       NumberOfCars BasePolicy  \n",
       "count         15420      15420  \n",
       "unique            5          3  \n",
       "top       1 vehicle  Collision  \n",
       "freq          14316       5962  \n",
       "\n",
       "[4 rows x 24 columns]"
      ]
     },
     "execution_count": 6,
     "metadata": {},
     "output_type": "execute_result"
    }
   ],
   "source": [
    "insur.describe(include=['object'])"
   ]
  },
  {
   "cell_type": "code",
   "execution_count": 7,
   "metadata": {},
   "outputs": [
    {
     "data": {
      "image/png": "[encoded data removed]",
      "text/plain": [
       "<Figure size 864x576 with 2 Axes>"
      ]
     },
     "metadata": {
      "needs_background": "light"
     },
     "output_type": "display_data"
    }
   ],
   "source": [
    "#Plotting a seaborn heatmap of the correlation matrix\n",
    "insurc=insur.corr()\n",
    "axes=sns.heatmap(insurc,vmin=-1,vmax=1)\n",
    "axes.set_xlabel(\"Features\")\n",
    "axes.set_ylabel(\"Features\")\n",
    "axes.set_title(\"Correlation Coefficient of Features\")\n",
    "fig=axes.get_figure()\n",
    "fig.set_size_inches(12,8)"
   ]
  },
  {
   "cell_type": "code",
   "execution_count": 8,
   "metadata": {},
   "outputs": [
    {
     "data": {
      "text/plain": [
       "Text(0.5, 1.0, 'No. of frauds in each month claimed')"
      ]
     },
     "execution_count": 8,
     "metadata": {},
     "output_type": "execute_result"
    },
    {
     "data": {
      "image/png": "[encoded data removed]",
      "text/plain": [
       "<Figure size 864x288 with 1 Axes>"
      ]
     },
     "metadata": {
      "needs_background": "light"
     },
     "output_type": "display_data"
    },
    {
     "data": {
      "image/png": "[encoded data removed]",
      "text/plain": [
       "<Figure size 864x288 with 1 Axes>"
      ]
     },
     "metadata": {
      "needs_background": "light"
     },
     "output_type": "display_data"
    }
   ],
   "source": [
    "janf=((insur['Month']=='Jan') & (insur['FraudFound_P']==1)).sum();\n",
    "febf=((insur['Month']=='Feb') & (insur['FraudFound_P']==1)).sum();\n",
    "marf=((insur['Month']=='Mar') & (insur['FraudFound_P']==1)).sum();\n",
    "aprf=((insur['Month']=='Apr') & (insur['FraudFound_P']==1)).sum();\n",
    "mayf=((insur['Month']=='May') & (insur['FraudFound_P']==1)).sum();\n",
    "junf=((insur['Month']=='Jun') & (insur['FraudFound_P']==1)).sum();\n",
    "julf=((insur['Month']=='Jul') & (insur['FraudFound_P']==1)).sum();\n",
    "augf=((insur['Month']=='Aug') & (insur['FraudFound_P']==1)).sum();\n",
    "sepf=((insur['Month']=='Sep') & (insur['FraudFound_P']==1)).sum();\n",
    "octf=((insur['Month']=='Oct') & (insur['FraudFound_P']==1)).sum();\n",
    "novf=((insur['Month']=='Nov') & (insur['FraudFound_P']==1)).sum();\n",
    "decf=((insur['Month']=='Dec') & (insur['FraudFound_P']==1)).sum();\n",
    "xdat=np.array([janf,febf,marf,aprf,mayf,junf,julf,augf,sepf,octf,novf,decf])\n",
    "ydat=np.array(['Jan','Feb','Mar','Apr','May','Jun','July','Aug','Sep','Oct','Nov','Dec'])\n",
    "plt.figure(figsize=(12,4))\n",
    "plt.bar(ydat,xdat, color=['brown','purple','mediumslateblue'])\n",
    "plt.xlabel('Months')\n",
    "plt.ylabel('Frauds')\n",
    "plt.title('No. of frauds in each month')\n",
    "#print(pd.crosstab(insur['FraudFound_P'], insur['Month']))\n",
    "############################################################################################################################\n",
    "janf=((insur['MonthClaimed']=='Jan') & (insur['FraudFound_P']==1)).sum();\n",
    "febf=((insur['MonthClaimed']=='Feb') & (insur['FraudFound_P']==1)).sum();\n",
    "marf=((insur['MonthClaimed']=='Mar') & (insur['FraudFound_P']==1)).sum();\n",
    "aprf=((insur['MonthClaimed']=='Apr') & (insur['FraudFound_P']==1)).sum();\n",
    "mayf=((insur['MonthClaimed']=='May') & (insur['FraudFound_P']==1)).sum();\n",
    "junf=((insur['MonthClaimed']=='Jun') & (insur['FraudFound_P']==1)).sum();\n",
    "julf=((insur['MonthClaimed']=='Jul') & (insur['FraudFound_P']==1)).sum();\n",
    "augf=((insur['MonthClaimed']=='Aug') & (insur['FraudFound_P']==1)).sum();\n",
    "sepf=((insur['MonthClaimed']=='Sep') & (insur['FraudFound_P']==1)).sum();\n",
    "octf=((insur['MonthClaimed']=='Oct') & (insur['FraudFound_P']==1)).sum();\n",
    "novf=((insur['MonthClaimed']=='Nov') & (insur['FraudFound_P']==1)).sum();\n",
    "decf=((insur['MonthClaimed']=='Dec') & (insur['FraudFound_P']==1)).sum();\n",
    "xdat=np.array([janf,febf,marf,aprf,mayf,junf,julf,augf,sepf,octf,novf,decf])\n",
    "ydat=np.array(['Jan','Feb','Mar','Apr','May','Jun','July','Aug','Sep','Oct','Nov','Dec'])\n",
    "plt.figure(figsize=(12,4))\n",
    "plt.bar(ydat,xdat, color=['darkorchid','violet','cadetblue'])\n",
    "plt.xlabel('Months Claimed')\n",
    "plt.ylabel('Frauds')\n",
    "plt.title('No. of frauds in each month claimed')\n",
    "#pd.crosstab(insur['FraudFound_P'], insur['MonthClaimed'])"
   ]
  },
  {
   "cell_type": "code",
   "execution_count": 9,
   "metadata": {},
   "outputs": [
    {
     "data": {
      "text/plain": [
       "([<matplotlib.patches.Wedge at 0x1f921dc6b38>,\n",
       "  <matplotlib.patches.Wedge at 0x1f921dd32b0>,\n",
       "  <matplotlib.patches.Wedge at 0x1f921dd39e8>,\n",
       "  <matplotlib.patches.Wedge at 0x1f921dde160>,\n",
       "  <matplotlib.patches.Wedge at 0x1f921dde898>,\n",
       "  <matplotlib.patches.Wedge at 0x1f921ddefd0>,\n",
       "  <matplotlib.patches.Wedge at 0x1f921de8748>,\n",
       "  <matplotlib.patches.Wedge at 0x1f921de8e80>,\n",
       "  <matplotlib.patches.Wedge at 0x1f921df35f8>,\n",
       "  <matplotlib.patches.Wedge at 0x1f921df3d30>,\n",
       "  <matplotlib.patches.Wedge at 0x1f921d93b70>,\n",
       "  <matplotlib.patches.Wedge at 0x1f921e00ba8>],\n",
       " [Text(1.1416458737101391, 0.3696548377075741, 'Jan'),\n",
       "  Text(0.7536492816483423, 0.9338162347437198, 'Feb'),\n",
       "  Text(0.09995215369647709, 1.195830074455161, 'Mar'),\n",
       "  Text(-0.6023565783609622, 1.0378663461666315, 'Apr'),\n",
       "  Text(-1.096365270133819, 0.4878352123867225, 'May'),\n",
       "  Text(-1.1774869359245481, -0.23135365941998656, 'Jun'),\n",
       "  Text(-0.9552264453036646, -0.7263211673856994, 'July'),\n",
       "  Text(-0.4859686793676584, -1.097193894748624, 'Aug'),\n",
       "  Text(0.19316539292783932, -1.1843509323570587, 'Sep'),\n",
       "  Text(0.7504664633018792, -0.9363760395584508, 'Oct'),\n",
       "  Text(1.0587263810069731, -0.564887997889739, 'Nov'),\n",
       "  Text(1.1833492782857264, -0.19920965232801996, 'Dec')],\n",
       " [Text(0.6659600929975812, 0.21563198866275157, '10.0%'),\n",
       "  Text(0.4396287476281997, 0.5447261369338364, '8.5%'),\n",
       "  Text(0.058305422989611624, 0.6975675434321772, '10.5%'),\n",
       "  Text(-0.3513746707105613, 0.6054220352638683, '8.9%'),\n",
       "  Text(-0.6395464075780609, 0.28457054055892145, '11.1%'),\n",
       "  Text(-0.6868673792893197, -0.13495630132832548, '8.5%'),\n",
       "  Text(-0.5572154264271376, -0.423687347641658, '6.1%'),\n",
       "  Text(-0.28348172963113405, -0.6400297719366972, '10.0%'),\n",
       "  Text(0.1126798125412396, -0.6908713772082841, '8.5%'),\n",
       "  Text(0.4377721035927628, -0.5462193564090962, '7.9%'),\n",
       "  Text(0.6175903889207343, -0.32951799876901433, '5.0%'),\n",
       "  Text(0.690287079000007, -0.11620563052467829, '5.3%')])"
      ]
     },
     "execution_count": 9,
     "metadata": {},
     "output_type": "execute_result"
    },
    {
     "data": {
      "image/png": "[encoded data removed]",
      "text/plain": [
       "<Figure size 432x432 with 1 Axes>"
      ]
     },
     "metadata": {},
     "output_type": "display_data"
    }
   ],
   "source": [
    "plt.figure(figsize=(6,6))\n",
    "plt.pie(x=xdat, labels=ydat, autopct='%1.1f%%', explode=[0.1,0.1,0.1,0.1,0.1,0.1,0.1,0.1,0.1,0.1,0.1,0.1])"
   ]
  },
  {
   "cell_type": "code",
   "execution_count": 10,
   "metadata": {},
   "outputs": [
    {
     "data": {
      "text/plain": [
       "Text(0.5, 1.0, 'No. of frauds in WeekOfMonth claimed')"
      ]
     },
     "execution_count": 10,
     "metadata": {},
     "output_type": "execute_result"
    },
    {
     "data": {
      "image/png": "[encoded data removed]",
      "text/plain": [
       "<Figure size 864x288 with 1 Axes>"
      ]
     },
     "metadata": {
      "needs_background": "light"
     },
     "output_type": "display_data"
    },
    {
     "data": {
      "image/png": "[encoded data removed]",
      "text/plain": [
       "<Figure size 864x288 with 1 Axes>"
      ]
     },
     "metadata": {
      "needs_background": "light"
     },
     "output_type": "display_data"
    }
   ],
   "source": [
    "onef=((insur['WeekOfMonth']==1) & (insur['FraudFound_P']==1)).sum();\n",
    "twof=((insur['WeekOfMonth']==2) & (insur['FraudFound_P']==1)).sum();\n",
    "thrf=((insur['WeekOfMonth']==3) & (insur['FraudFound_P']==1)).sum();\n",
    "fouf=((insur['WeekOfMonth']==4) & (insur['FraudFound_P']==1)).sum();\n",
    "fivf=((insur['WeekOfMonth']==5) & (insur['FraudFound_P']==1)).sum();\n",
    "\n",
    "xdat=np.array([onef,twof,thrf,fouf,fivf])\n",
    "ydat=np.array([1,2,3,4,5])\n",
    "plt.figure(figsize=(12,4))\n",
    "plt.subplot(1,2,1)\n",
    "plt.bar(ydat,xdat, color=['slategray','cornflowerblue'])\n",
    "plt.xlabel('WeekOfMonth')\n",
    "plt.ylabel('Frauds')\n",
    "plt.title('No. of frauds in WeekOfMonth')\n",
    "#print(pd.crosstab(insur['FraudFound_P'], insur['WeekOfMonth']))\n",
    "############################################################################################################################\n",
    "onef=((insur['WeekOfMonthClaimed']==1) & (insur['FraudFound_P']==1)).sum();\n",
    "twof=((insur['WeekOfMonthClaimed']==2) & (insur['FraudFound_P']==1)).sum();\n",
    "thrf=((insur['WeekOfMonthClaimed']==3) & (insur['FraudFound_P']==1)).sum();\n",
    "fouf=((insur['WeekOfMonthClaimed']==4) & (insur['FraudFound_P']==1)).sum();\n",
    "fivf=((insur['WeekOfMonthClaimed']==5) & (insur['FraudFound_P']==1)).sum();\n",
    "\n",
    "xdat=np.array([onef,twof,thrf,fouf,fivf])\n",
    "ydat=np.array([1,2,3,4,5])\n",
    "plt.figure(figsize=(12,4))\n",
    "plt.subplot(1,2,2)\n",
    "plt.bar(ydat,xdat, color=['seagreen','gold'])\n",
    "plt.xlabel('WeekOfMonth Claimed')\n",
    "plt.ylabel('Frauds')\n",
    "plt.title('No. of frauds in WeekOfMonth claimed')\n",
    "#pd.crosstab(insur['FraudFound_P'], insur['WeekOfMonthClaimed'])"
   ]
  },
  {
   "cell_type": "code",
   "execution_count": 9,
   "metadata": {},
   "outputs": [
    {
     "data": {
      "text/plain": [
       "Text(0.5, 1.0, '1994')"
      ]
     },
     "execution_count": 9,
     "metadata": {},
     "output_type": "execute_result"
    },
    {
     "data": {
      "image/png": "[encoded data removed]",
      "text/plain": [
       "<Figure size 864x288 with 1 Axes>"
      ]
     },
     "metadata": {
      "needs_background": "light"
     },
     "output_type": "display_data"
    }
   ],
   "source": [
    "#import matplotlib.axes as axx\n",
    "onef=((insur['WeekOfMonth']==1) & (insur['FraudFound_P']==1) & (insur['Year']==1994)).sum();\n",
    "twof=((insur['WeekOfMonth']==2) & (insur['FraudFound_P']==1) & (insur['Year']==1994)).sum();\n",
    "thrf=((insur['WeekOfMonth']==3) & (insur['FraudFound_P']==1) & (insur['Year']==1994)).sum();\n",
    "fouf=((insur['WeekOfMonth']==4) & (insur['FraudFound_P']==1) & (insur['Year']==1994)).sum();\n",
    "fivf=((insur['WeekOfMonth']==5) & (insur['FraudFound_P']==1) & (insur['Year']==1994)).sum();\n",
    "\n",
    "xdat=np.array([onef,twof,thrf,fouf,fivf])\n",
    "ydat=np.array([1,2,3,4,5])\n",
    "plt.figure(figsize=(12,4))\n",
    "plt.subplot(1,2,1)\n",
    "plt.bar(ydat,xdat, color=['slategray','cornflowerblue'])\n",
    "plt.ylim(ymin=0, ymax=110)\n",
    "plt.xlabel('WeekOfMonth')\n",
    "plt.ylabel('Frauds')\n",
    "plt.title('1994')"
   ]
  },
  {
   "cell_type": "code",
   "execution_count": 10,
   "metadata": {},
   "outputs": [
    {
     "data": {
      "text/plain": [
       "Text(0.5, 1.0, '1995')"
      ]
     },
     "execution_count": 10,
     "metadata": {},
     "output_type": "execute_result"
    },
    {
     "data": {
      "image/png": "[encoded data removed]",
      "text/plain": [
       "<Figure size 864x288 with 1 Axes>"
      ]
     },
     "metadata": {
      "needs_background": "light"
     },
     "output_type": "display_data"
    }
   ],
   "source": [
    "onef=((insur['WeekOfMonth']==1) & (insur['FraudFound_P']==1) & (insur['Year']==1995)).sum();\n",
    "twof=((insur['WeekOfMonth']==2) & (insur['FraudFound_P']==1) & (insur['Year']==1995)).sum();\n",
    "thrf=((insur['WeekOfMonth']==3) & (insur['FraudFound_P']==1) & (insur['Year']==1995)).sum();\n",
    "fouf=((insur['WeekOfMonth']==4) & (insur['FraudFound_P']==1) & (insur['Year']==1995)).sum();\n",
    "fivf=((insur['WeekOfMonth']==5) & (insur['FraudFound_P']==1) & (insur['Year']==1995)).sum();\n",
    "\n",
    "xdat=np.array([onef,twof,thrf,fouf,fivf])\n",
    "ydat=np.array([1,2,3,4,5])\n",
    "plt.figure(figsize=(12,4))\n",
    "plt.subplot(1,2,1)\n",
    "plt.bar(ydat,xdat, color=['slategray','cornflowerblue'])\n",
    "plt.ylim(ymin=0, ymax=110)\n",
    "plt.xlabel('WeekOfMonth')\n",
    "plt.ylabel('Frauds')\n",
    "plt.title('1995')"
   ]
  },
  {
   "cell_type": "code",
   "execution_count": 11,
   "metadata": {},
   "outputs": [
    {
     "data": {
      "text/plain": [
       "Text(0.5, 1.0, '1996')"
      ]
     },
     "execution_count": 11,
     "metadata": {},
     "output_type": "execute_result"
    },
    {
     "data": {
      "image/png": "[encoded data removed]",
      "text/plain": [
       "<Figure size 864x288 with 1 Axes>"
      ]
     },
     "metadata": {
      "needs_background": "light"
     },
     "output_type": "display_data"
    }
   ],
   "source": [
    "onef=((insur['WeekOfMonth']==1) & (insur['FraudFound_P']==1) & (insur['Year']==1996)).sum();\n",
    "twof=((insur['WeekOfMonth']==2) & (insur['FraudFound_P']==1) & (insur['Year']==1996)).sum();\n",
    "thrf=((insur['WeekOfMonth']==3) & (insur['FraudFound_P']==1) & (insur['Year']==1996)).sum();\n",
    "fouf=((insur['WeekOfMonth']==4) & (insur['FraudFound_P']==1) & (insur['Year']==1996)).sum();\n",
    "fivf=((insur['WeekOfMonth']==5) & (insur['FraudFound_P']==1) & (insur['Year']==1996)).sum();\n",
    "\n",
    "xdat=np.array([onef,twof,thrf,fouf,fivf])\n",
    "ydat=np.array([1,2,3,4,5])\n",
    "plt.figure(figsize=(12,4))\n",
    "plt.subplot(1,2,1)\n",
    "plt.bar(ydat,xdat, color=['slategray','cornflowerblue'])\n",
    "plt.ylim(ymin=0, ymax=110)\n",
    "plt.xlabel('WeekOfMonth')\n",
    "plt.ylabel('Frauds')\n",
    "plt.title('1996')"
   ]
  },
  {
   "cell_type": "code",
   "execution_count": 14,
   "metadata": {},
   "outputs": [
    {
     "data": {
      "text/plain": [
       "Text(0.5, 1.0, 'No. of frauds in DayOfWeek claimed')"
      ]
     },
     "execution_count": 14,
     "metadata": {},
     "output_type": "execute_result"
    },
    {
     "data": {
      "image/png": "[encoded data removed]",
      "text/plain": [
       "<Figure size 576x288 with 1 Axes>"
      ]
     },
     "metadata": {
      "needs_background": "light"
     },
     "output_type": "display_data"
    },
    {
     "data": {
      "image/png": "[encoded data removed]",
      "text/plain": [
       "<Figure size 576x288 with 1 Axes>"
      ]
     },
     "metadata": {
      "needs_background": "light"
     },
     "output_type": "display_data"
    }
   ],
   "source": [
    "monf=((insur['DayOfWeek']=='Monday') & (insur['FraudFound_P']==1)).sum();\n",
    "tuef=((insur['DayOfWeek']=='Tuesday') & (insur['FraudFound_P']==1)).sum();\n",
    "wedf=((insur['DayOfWeek']=='Wednesday') & (insur['FraudFound_P']==1)).sum();\n",
    "thuf=((insur['DayOfWeek']=='Thursday') & (insur['FraudFound_P']==1)).sum();\n",
    "frif=((insur['DayOfWeek']=='Friday') & (insur['FraudFound_P']==1)).sum();\n",
    "satf=((insur['DayOfWeek']=='Saturday') & (insur['FraudFound_P']==1)).sum();\n",
    "sunf=((insur['DayOfWeek']=='Sunday') & (insur['FraudFound_P']==1)).sum();\n",
    "xdat=np.array([monf,tuef,wedf,thuf,frif,satf,sunf])\n",
    "ydat=np.array(['Monday','Tuesday','Wednesday','Thursday','Friday','Saturday','Sunday'])\n",
    "plt.figure(figsize=(8,4))\n",
    "plt.bar(ydat,xdat, color=['darkcyan','lightcoral'])\n",
    "plt.xlabel('DayOfWeek')\n",
    "plt.ylabel('Frauds')\n",
    "plt.title('No. of frauds in DayOfWeek')\n",
    "#print(pd.crosstab(insur['FraudFound_P'], insur['DayOfWeek']))\n",
    "############################################################################################################################\n",
    "monf=((insur['DayOfWeekClaimed']=='Monday') & (insur['FraudFound_P']==1)).sum();\n",
    "tuef=((insur['DayOfWeekClaimed']=='Tuesday') & (insur['FraudFound_P']==1)).sum();\n",
    "wedf=((insur['DayOfWeekClaimed']=='Wednesday') & (insur['FraudFound_P']==1)).sum();\n",
    "thuf=((insur['DayOfWeekClaimed']=='Thursday') & (insur['FraudFound_P']==1)).sum();\n",
    "frif=((insur['DayOfWeekClaimed']=='Friday') & (insur['FraudFound_P']==1)).sum();\n",
    "satf=((insur['DayOfWeekClaimed']=='Saturday') & (insur['FraudFound_P']==1)).sum();\n",
    "sunf=((insur['DayOfWeekClaimed']=='Sunday') & (insur['FraudFound_P']==1)).sum();\n",
    "#xdat=np.array([monf,tuef,wedf,thuf,frif,satf,sunf])\n",
    "#ydat=np.array(['Monday','Tuesday','Wednesday','Thursday','Friday','Saturday','Sunday'])\n",
    "plt.figure(figsize=(8,4))\n",
    "plt.bar(ydat,xdat, color=['cyan','coral'])\n",
    "plt.xlabel('DayOfWeekClaimed')\n",
    "plt.ylabel('Frauds')\n",
    "plt.title('No. of frauds in DayOfWeek claimed')\n",
    "#pd.crosstab(insur['FraudFound_P'], insur['DayOfWeekClaimed'])"
   ]
  },
  {
   "cell_type": "code",
   "execution_count": 12,
   "metadata": {},
   "outputs": [
    {
     "data": {
      "text/plain": [
       "Text(0.5, 1.0, '1994')"
      ]
     },
     "execution_count": 12,
     "metadata": {},
     "output_type": "execute_result"
    },
    {
     "data": {
      "image/png": "[encoded data removed]",
      "text/plain": [
       "<Figure size 576x288 with 1 Axes>"
      ]
     },
     "metadata": {
      "needs_background": "light"
     },
     "output_type": "display_data"
    }
   ],
   "source": [
    "monf=((insur['DayOfWeek']=='Monday') & (insur['FraudFound_P']==1) & (insur['Year']==1994)).sum();\n",
    "tuef=((insur['DayOfWeek']=='Tuesday') & (insur['FraudFound_P']==1) & (insur['Year']==1994)).sum();\n",
    "wedf=((insur['DayOfWeek']=='Wednesday') & (insur['FraudFound_P']==1) & (insur['Year']==1994)).sum();\n",
    "thuf=((insur['DayOfWeek']=='Thursday') & (insur['FraudFound_P']==1) & (insur['Year']==1994)).sum();\n",
    "frif=((insur['DayOfWeek']=='Friday') & (insur['FraudFound_P']==1) & (insur['Year']==1994)).sum();\n",
    "satf=((insur['DayOfWeek']=='Saturday') & (insur['FraudFound_P']==1) & (insur['Year']==1994)).sum();\n",
    "sunf=((insur['DayOfWeek']=='Sunday') & (insur['FraudFound_P']==1) & (insur['Year']==1994)).sum();\n",
    "xdat=np.array([monf,tuef,wedf,thuf,frif,satf,sunf])\n",
    "ydat=np.array(['Monday','Tuesday','Wednesday','Thursday','Friday','Saturday','Sunday'])\n",
    "plt.figure(figsize=(8,4))\n",
    "plt.bar(ydat,xdat, color=['darkcyan','lightcoral'])\n",
    "plt.ylim(ymin=0, ymax=80)\n",
    "plt.xlabel('DayOfWeek')\n",
    "plt.ylabel('Frauds')\n",
    "plt.title('1994')"
   ]
  },
  {
   "cell_type": "code",
   "execution_count": 13,
   "metadata": {},
   "outputs": [
    {
     "data": {
      "text/plain": [
       "Text(0.5, 1.0, '1995')"
      ]
     },
     "execution_count": 13,
     "metadata": {},
     "output_type": "execute_result"
    },
    {
     "data": {
      "image/png": "[encoded data removed]",
      "text/plain": [
       "<Figure size 576x288 with 1 Axes>"
      ]
     },
     "metadata": {
      "needs_background": "light"
     },
     "output_type": "display_data"
    }
   ],
   "source": [
    "monf=((insur['DayOfWeek']=='Monday') & (insur['FraudFound_P']==1) & (insur['Year']==1995)).sum();\n",
    "tuef=((insur['DayOfWeek']=='Tuesday') & (insur['FraudFound_P']==1) & (insur['Year']==1995)).sum();\n",
    "wedf=((insur['DayOfWeek']=='Wednesday') & (insur['FraudFound_P']==1) & (insur['Year']==1995)).sum();\n",
    "thuf=((insur['DayOfWeek']=='Thursday') & (insur['FraudFound_P']==1) & (insur['Year']==1995)).sum();\n",
    "frif=((insur['DayOfWeek']=='Friday') & (insur['FraudFound_P']==1) & (insur['Year']==1995)).sum();\n",
    "satf=((insur['DayOfWeek']=='Saturday') & (insur['FraudFound_P']==1) & (insur['Year']==1995)).sum();\n",
    "sunf=((insur['DayOfWeek']=='Sunday') & (insur['FraudFound_P']==1) & (insur['Year']==1995)).sum();\n",
    "xdat=np.array([monf,tuef,wedf,thuf,frif,satf,sunf])\n",
    "ydat=np.array(['Monday','Tuesday','Wednesday','Thursday','Friday','Saturday','Sunday'])\n",
    "plt.figure(figsize=(8,4))\n",
    "plt.bar(ydat,xdat, color=['darkcyan','lightcoral'])\n",
    "plt.ylim(ymin=0, ymax=80)\n",
    "plt.xlabel('DayOfWeek')\n",
    "plt.ylabel('Frauds')\n",
    "plt.title('1995')"
   ]
  },
  {
   "cell_type": "code",
   "execution_count": 14,
   "metadata": {},
   "outputs": [
    {
     "data": {
      "text/plain": [
       "Text(0.5, 1.0, '1996')"
      ]
     },
     "execution_count": 14,
     "metadata": {},
     "output_type": "execute_result"
    },
    {
     "data": {
      "image/png": "[encoded data removed]",
      "text/plain": [
       "<Figure size 576x288 with 1 Axes>"
      ]
     },
     "metadata": {
      "needs_background": "light"
     },
     "output_type": "display_data"
    }
   ],
   "source": [
    "monf=((insur['DayOfWeek']=='Monday') & (insur['FraudFound_P']==1) & (insur['Year']==1996)).sum();\n",
    "tuef=((insur['DayOfWeek']=='Tuesday') & (insur['FraudFound_P']==1) & (insur['Year']==1996)).sum();\n",
    "wedf=((insur['DayOfWeek']=='Wednesday') & (insur['FraudFound_P']==1) & (insur['Year']==1996)).sum();\n",
    "thuf=((insur['DayOfWeek']=='Thursday') & (insur['FraudFound_P']==1) & (insur['Year']==1996)).sum();\n",
    "frif=((insur['DayOfWeek']=='Friday') & (insur['FraudFound_P']==1) & (insur['Year']==1996)).sum();\n",
    "satf=((insur['DayOfWeek']=='Saturday') & (insur['FraudFound_P']==1) & (insur['Year']==1996)).sum();\n",
    "sunf=((insur['DayOfWeek']=='Sunday') & (insur['FraudFound_P']==1) & (insur['Year']==1996)).sum();\n",
    "xdat=np.array([monf,tuef,wedf,thuf,frif,satf,sunf])\n",
    "ydat=np.array(['Monday','Tuesday','Wednesday','Thursday','Friday','Saturday','Sunday'])\n",
    "plt.figure(figsize=(8,4))\n",
    "plt.bar(ydat,xdat, color=['darkcyan','lightcoral'])\n",
    "plt.ylim(ymin=0, ymax=80)\n",
    "plt.xlabel('DayOfWeek')\n",
    "plt.ylabel('Frauds')\n",
    "plt.title('1996')"
   ]
  },
  {
   "cell_type": "code",
   "execution_count": 18,
   "metadata": {},
   "outputs": [
    {
     "data": {
      "text/plain": [
       "([<matplotlib.patches.Wedge at 0x1f9223869e8>,\n",
       "  <matplotlib.patches.Wedge at 0x1f922393160>,\n",
       "  <matplotlib.patches.Wedge at 0x1f922393898>,\n",
       "  <matplotlib.patches.Wedge at 0x1f922393f60>,\n",
       "  <matplotlib.patches.Wedge at 0x1f92239f668>,\n",
       "  <matplotlib.patches.Wedge at 0x1f92239fda0>,\n",
       "  <matplotlib.patches.Wedge at 0x1f9223ab4a8>],\n",
       " [Text(-0.06191936075239436, 1.198401432227121, 'Monday'),\n",
       "  Text(-0.9666421831741971, 0.7110575853671923, 'Tuesday'),\n",
       "  Text(-1.1979122166093155, -0.07075536232792862, 'Wednesday'),\n",
       "  Text(-0.6894994135391107, -0.982135712989413, 'Thursday'),\n",
       "  Text(0.584607400776144, -1.0479666917215265, 'Friday'),\n",
       "  Text(1.1998694777388494, 0.017698485548229663, 'Saturday'),\n",
       "  Text(0.8640269912085502, 0.8327408711376547, 'Sunday')],\n",
       " [Text(-0.03611962710556337, 0.6990675021324871, '18.3%'),\n",
       "  Text(-0.563874606851615, 0.4147835914641955, '9.9%'),\n",
       "  Text(-0.698782126355434, -0.04127396135795836, '12.2%'),\n",
       "  Text(-0.4022079912311479, -0.5729124992438243, '16.4%'),\n",
       "  Text(0.34102098378608403, -0.6113139035042238, '19.2%'),\n",
       "  Text(0.6999238620143288, 0.010324116569800635, '15.0%'),\n",
       "  Text(0.5040157448716542, 0.48576550816363184, '8.9%')])"
      ]
     },
     "execution_count": 18,
     "metadata": {},
     "output_type": "execute_result"
    },
    {
     "data": {
      "image/png": "[encoded data removed]",
      "text/plain": [
       "<Figure size 360x360 with 1 Axes>"
      ]
     },
     "metadata": {},
     "output_type": "display_data"
    }
   ],
   "source": [
    "plt.figure(figsize=(5,5))\n",
    "plt.pie(x=xdat, labels=ydat, autopct='%1.1f%%', startangle=60, explode=[0.1,0.1,0.1,0.1,0.1,0.1,0.1])"
   ]
  },
  {
   "cell_type": "code",
   "execution_count": 19,
   "metadata": {},
   "outputs": [
    {
     "data": {
      "text/html": [
       "<div>\n",
       "<style scoped>\n",
       "    .dataframe tbody tr th:only-of-type {\n",
       "        vertical-align: middle;\n",
       "    }\n",
       "\n",
       "    .dataframe tbody tr th {\n",
       "        vertical-align: top;\n",
       "    }\n",
       "\n",
       "    .dataframe thead th {\n",
       "        text-align: right;\n",
       "    }\n",
       "</style>\n",
       "<table border=\"1\" class=\"dataframe\">\n",
       "  <thead>\n",
       "    <tr style=\"text-align: right;\">\n",
       "      <th>AccidentArea</th>\n",
       "      <th>Rural</th>\n",
       "      <th>Urban</th>\n",
       "    </tr>\n",
       "    <tr>\n",
       "      <th>FraudFound_P</th>\n",
       "      <th></th>\n",
       "      <th></th>\n",
       "    </tr>\n",
       "  </thead>\n",
       "  <tbody>\n",
       "    <tr>\n",
       "      <th>0</th>\n",
       "      <td>1465</td>\n",
       "      <td>13032</td>\n",
       "    </tr>\n",
       "    <tr>\n",
       "      <th>1</th>\n",
       "      <td>133</td>\n",
       "      <td>790</td>\n",
       "    </tr>\n",
       "  </tbody>\n",
       "</table>\n",
       "</div>"
      ],
      "text/plain": [
       "AccidentArea  Rural  Urban\n",
       "FraudFound_P              \n",
       "0              1465  13032\n",
       "1               133    790"
      ]
     },
     "execution_count": 19,
     "metadata": {},
     "output_type": "execute_result"
    },
    {
     "data": {
      "image/png": "[encoded data removed]",
      "text/plain": [
       "<Figure size 216x288 with 1 Axes>"
      ]
     },
     "metadata": {
      "needs_background": "light"
     },
     "output_type": "display_data"
    }
   ],
   "source": [
    "rurf=((insur['AccidentArea']=='Rural') & (insur['FraudFound_P']==1)).sum()\n",
    "ubrf=((insur['AccidentArea']=='Urban') & (insur['FraudFound_P']==1)).sum()\n",
    "xdat=np.array(['Rural','Urban'])\n",
    "ydat=np.array([rurf,ubrf])\n",
    "plt.figure(figsize=(3,4))\n",
    "plt.bar(xdat,ydat, color=['sienna','sandybrown'])\n",
    "plt.xlabel('Accident Area')\n",
    "plt.ylabel('Frauds')\n",
    "plt.title('Frauds relating to accident area')\n",
    "pd.crosstab(insur['FraudFound_P'], insur['AccidentArea'])"
   ]
  },
  {
   "cell_type": "code",
   "execution_count": 5,
   "metadata": {
    "scrolled": true
   },
   "outputs": [
    {
     "data": {
      "text/plain": [
       "Text(0.5, 1.0, 'Urban')"
      ]
     },
     "execution_count": 5,
     "metadata": {},
     "output_type": "execute_result"
    },
    {
     "data": {
      "image/png": "[encoded data removed]",
      "text/plain": [
       "<Figure size 432x288 with 1 Axes>"
      ]
     },
     "metadata": {},
     "output_type": "display_data"
    }
   ],
   "source": [
    "urb0=13032\n",
    "urb1=790\n",
    "rur0=1465\n",
    "rur1=133\n",
    "plt.pie(x=np.array([urb0,urb1]), labels=np.array(['Not Fraud','Fraud']), colors=['lightgreen','deepskyblue'], autopct='%1.1f%%', explode=[0,0.1])\n",
    "plt.title('Urban')"
   ]
  },
  {
   "cell_type": "code",
   "execution_count": 6,
   "metadata": {},
   "outputs": [
    {
     "data": {
      "text/plain": [
       "Text(0.5, 1.0, 'Rural')"
      ]
     },
     "execution_count": 6,
     "metadata": {},
     "output_type": "execute_result"
    },
    {
     "data": {
      "image/png": "[encoded data removed]",
      "text/plain": [
       "<Figure size 432x288 with 1 Axes>"
      ]
     },
     "metadata": {},
     "output_type": "display_data"
    }
   ],
   "source": [
    "plt.pie(x=np.array([rur0,rur1]), labels=np.array(['Not Fraud','Fraud']), colors=['lightgreen','deepskyblue'], autopct='%1.1f%%', explode=[0,0.1])\n",
    "plt.title('Rural')"
   ]
  },
  {
   "cell_type": "code",
   "execution_count": 20,
   "metadata": {},
   "outputs": [
    {
     "data": {
      "text/plain": [
       "([<matplotlib.patches.Wedge at 0x203d1826c18>,\n",
       "  <matplotlib.patches.Wedge at 0x203d18333c8>],\n",
       " [Text(0.9892017056386108, 0.4811236697166992, 'Rural'),\n",
       "  Text(-1.07912915799451, -0.5248621346278088, 'Urban')],\n",
       " [Text(0.5395645667119694, 0.262431092572745, '14.4%'),\n",
       "  Text(-0.6294920088301308, -0.30616957853288845, '85.6%')])"
      ]
     },
     "execution_count": 20,
     "metadata": {},
     "output_type": "execute_result"
    },
    {
     "data": {
      "image/png": "[encoded data removed]",
      "text/plain": [
       "<Figure size 432x288 with 1 Axes>"
      ]
     },
     "metadata": {},
     "output_type": "display_data"
    }
   ],
   "source": [
    "plt.pie(x=ydat, labels=xdat, colors=['lightgreen','deepskyblue'], autopct='%1.1f%%', explode=[0,0.1])"
   ]
  },
  {
   "cell_type": "code",
   "execution_count": 21,
   "metadata": {},
   "outputs": [
    {
     "data": {
      "text/html": [
       "<div>\n",
       "<style scoped>\n",
       "    .dataframe tbody tr th:only-of-type {\n",
       "        vertical-align: middle;\n",
       "    }\n",
       "\n",
       "    .dataframe tbody tr th {\n",
       "        vertical-align: top;\n",
       "    }\n",
       "\n",
       "    .dataframe thead th {\n",
       "        text-align: right;\n",
       "    }\n",
       "</style>\n",
       "<table border=\"1\" class=\"dataframe\">\n",
       "  <thead>\n",
       "    <tr style=\"text-align: right;\">\n",
       "      <th>Sex</th>\n",
       "      <th>Female</th>\n",
       "      <th>Male</th>\n",
       "    </tr>\n",
       "    <tr>\n",
       "      <th>FraudFound_P</th>\n",
       "      <th></th>\n",
       "      <th></th>\n",
       "    </tr>\n",
       "  </thead>\n",
       "  <tbody>\n",
       "    <tr>\n",
       "      <th>0</th>\n",
       "      <td>2315</td>\n",
       "      <td>12182</td>\n",
       "    </tr>\n",
       "    <tr>\n",
       "      <th>1</th>\n",
       "      <td>105</td>\n",
       "      <td>818</td>\n",
       "    </tr>\n",
       "  </tbody>\n",
       "</table>\n",
       "</div>"
      ],
      "text/plain": [
       "Sex           Female   Male\n",
       "FraudFound_P               \n",
       "0               2315  12182\n",
       "1                105    818"
      ]
     },
     "execution_count": 21,
     "metadata": {},
     "output_type": "execute_result"
    },
    {
     "data": {
      "image/png": "[encoded data removed]",
      "text/plain": [
       "<Figure size 216x288 with 1 Axes>"
      ]
     },
     "metadata": {
      "needs_background": "light"
     },
     "output_type": "display_data"
    }
   ],
   "source": [
    "malf=((insur['Sex']=='Male') & (insur['FraudFound_P']==1)).sum()\n",
    "femf=((insur['Sex']=='Female') & (insur['FraudFound_P']==1)).sum()\n",
    "xdat=np.array(['Male','Female'])\n",
    "ydat=np.array([malf,femf])\n",
    "plt.figure(figsize=(3,4))\n",
    "plt.bar(xdat,ydat, color=['olive','lightsteelblue'])\n",
    "plt.xlabel('Sex')\n",
    "plt.ylabel('Frauds')\n",
    "plt.title('Frauds relating to Sex')\n",
    "pd.crosstab(insur['FraudFound_P'], insur['Sex'])"
   ]
  },
  {
   "cell_type": "code",
   "execution_count": 7,
   "metadata": {
    "scrolled": true
   },
   "outputs": [
    {
     "data": {
      "text/plain": [
       "Text(0.5, 1.0, 'Male')"
      ]
     },
     "execution_count": 7,
     "metadata": {},
     "output_type": "execute_result"
    },
    {
     "data": {
      "image/png": "[encoded data removed]",
      "text/plain": [
       "<Figure size 432x288 with 1 Axes>"
      ]
     },
     "metadata": {},
     "output_type": "display_data"
    }
   ],
   "source": [
    "mal0=12182\n",
    "mal1=818\n",
    "fem0=2315\n",
    "fem1=105\n",
    "plt.pie(x=np.array([mal0,mal1]), labels=np.array(['Not Fraud','Fraud']), colors=['indianred','lightsteelblue'], autopct='%1.1f%%', explode=[0,0.1])\n",
    "plt.title('Male')"
   ]
  },
  {
   "cell_type": "code",
   "execution_count": 8,
   "metadata": {},
   "outputs": [
    {
     "data": {
      "text/plain": [
       "Text(0.5, 1.0, 'Female')"
      ]
     },
     "execution_count": 8,
     "metadata": {},
     "output_type": "execute_result"
    },
    {
     "data": {
      "image/png": "[encoded data removed]",
      "text/plain": [
       "<Figure size 432x288 with 1 Axes>"
      ]
     },
     "metadata": {},
     "output_type": "display_data"
    }
   ],
   "source": [
    "plt.pie(x=np.array([fem0,fem1]), labels=np.array(['Not Fraud','Fraud']), colors=['indianred','lightsteelblue'], autopct='%1.1f%%', explode=[0,0.1])\n",
    "plt.title('Female')"
   ]
  },
  {
   "cell_type": "code",
   "execution_count": 22,
   "metadata": {},
   "outputs": [
    {
     "data": {
      "text/plain": [
       "([<matplotlib.patches.Wedge at 0x203d18d12b0>,\n",
       "  <matplotlib.patches.Wedge at 0x203d18d1a20>],\n",
       " [Text(-1.0304959640352322, 0.3848091320474314, 'Male'),\n",
       "  Text(1.1241774447889672, -0.4197917014755642, 'Female')],\n",
       " [Text(-0.5620887076555812, 0.2098958902076898, '88.6%'),\n",
       "  Text(0.6557701761268974, -0.24487849252741242, '11.4%')])"
      ]
     },
     "execution_count": 22,
     "metadata": {},
     "output_type": "execute_result"
    },
    {
     "data": {
      "image/png": "[encoded data removed]",
      "text/plain": [
       "<Figure size 432x288 with 1 Axes>"
      ]
     },
     "metadata": {},
     "output_type": "display_data"
    }
   ],
   "source": [
    "plt.pie(x=ydat, labels=xdat, colors=['indianred','lightsteelblue'], autopct='%1.1f%%', explode=[0,0.1])"
   ]
  },
  {
   "cell_type": "code",
   "execution_count": 23,
   "metadata": {},
   "outputs": [
    {
     "data": {
      "text/html": [
       "<div>\n",
       "<style scoped>\n",
       "    .dataframe tbody tr th:only-of-type {\n",
       "        vertical-align: middle;\n",
       "    }\n",
       "\n",
       "    .dataframe tbody tr th {\n",
       "        vertical-align: top;\n",
       "    }\n",
       "\n",
       "    .dataframe thead th {\n",
       "        text-align: right;\n",
       "    }\n",
       "</style>\n",
       "<table border=\"1\" class=\"dataframe\">\n",
       "  <thead>\n",
       "    <tr style=\"text-align: right;\">\n",
       "      <th>MaritalStatus</th>\n",
       "      <th>Divorced</th>\n",
       "      <th>Married</th>\n",
       "      <th>Single</th>\n",
       "      <th>Widow</th>\n",
       "    </tr>\n",
       "    <tr>\n",
       "      <th>FraudFound_P</th>\n",
       "      <th></th>\n",
       "      <th></th>\n",
       "      <th></th>\n",
       "      <th></th>\n",
       "    </tr>\n",
       "  </thead>\n",
       "  <tbody>\n",
       "    <tr>\n",
       "      <th>0</th>\n",
       "      <td>73</td>\n",
       "      <td>9986</td>\n",
       "      <td>4406</td>\n",
       "      <td>32</td>\n",
       "    </tr>\n",
       "    <tr>\n",
       "      <th>1</th>\n",
       "      <td>3</td>\n",
       "      <td>639</td>\n",
       "      <td>278</td>\n",
       "      <td>3</td>\n",
       "    </tr>\n",
       "  </tbody>\n",
       "</table>\n",
       "</div>"
      ],
      "text/plain": [
       "MaritalStatus  Divorced  Married  Single  Widow\n",
       "FraudFound_P                                   \n",
       "0                    73     9986    4406     32\n",
       "1                     3      639     278      3"
      ]
     },
     "execution_count": 23,
     "metadata": {},
     "output_type": "execute_result"
    },
    {
     "data": {
      "image/png": "[encoded data removed]",
      "text/plain": [
       "<Figure size 360x288 with 1 Axes>"
      ]
     },
     "metadata": {
      "needs_background": "light"
     },
     "output_type": "display_data"
    }
   ],
   "source": [
    "divf=((insur['MaritalStatus']=='Divorced') & (insur['FraudFound_P']==1)).sum()\n",
    "marf=((insur['MaritalStatus']=='Married') & (insur['FraudFound_P']==1)).sum()\n",
    "sinf=((insur['MaritalStatus']=='Single') & (insur['FraudFound_P']==1)).sum()\n",
    "widf=((insur['MaritalStatus']=='Widow') & (insur['FraudFound_P']==1)).sum()\n",
    "xdat=np.array(['Married','Divorced','Single','Widow'])\n",
    "ydat=np.array([marf,divf,sinf,widf])\n",
    "plt.figure(figsize=(5,4))\n",
    "plt.bar(xdat,ydat,color=['orange','silver','aquamarine','slateblue'])\n",
    "plt.xlabel('Marital Status')\n",
    "plt.ylabel('Frauds')\n",
    "plt.title('Frauds relating to Marital Status')\n",
    "pd.crosstab(insur['FraudFound_P'], insur['MaritalStatus'])"
   ]
  },
  {
   "cell_type": "code",
   "execution_count": 24,
   "metadata": {},
   "outputs": [
    {
     "data": {
      "text/plain": [
       "([<matplotlib.patches.Wedge at 0x203d19850f0>,\n",
       "  <matplotlib.patches.Wedge at 0x203d1985828>,\n",
       "  <matplotlib.patches.Wedge at 0x203d1985ef0>,\n",
       "  <matplotlib.patches.Wedge at 0x203d198d668>],\n",
       " [Text(-1.1462708990227106, -0.09253662006831243, 'Married'),\n",
       "  Text(0.7683862417930775, -0.9217280420075709, 'Divorced'),\n",
       "  Text(1.1462708904941756, 0.09253672571303823, 'Single'),\n",
       "  Text(0.6105799564872343, 1.0330499100895596, 'Widow')],\n",
       " [Text(-0.6478922472737059, -0.05230330699513311, '69.2%'),\n",
       "  Text(0.44822530771262853, -0.5376746911710829, '0.3%'),\n",
       "  Text(0.6478922424532295, 0.05230336670736943, '30.1%'),\n",
       "  Text(0.35617164128421996, 0.602612447552243, '0.3%')])"
      ]
     },
     "execution_count": 24,
     "metadata": {},
     "output_type": "execute_result"
    },
    {
     "data": {
      "image/png": "[encoded data removed]",
      "text/plain": [
       "<Figure size 360x360 with 1 Axes>"
      ]
     },
     "metadata": {},
     "output_type": "display_data"
    }
   ],
   "source": [
    "plt.figure(figsize=(5,5))\n",
    "plt.pie(x=ydat, labels=xdat, startangle=60, explode=[0.05,0.1,0.05,0.1], autopct='%1.1f%%')"
   ]
  },
  {
   "cell_type": "code",
   "execution_count": 25,
   "metadata": {},
   "outputs": [
    {
     "data": {
      "text/html": [
       "<div>\n",
       "<style scoped>\n",
       "    .dataframe tbody tr th:only-of-type {\n",
       "        vertical-align: middle;\n",
       "    }\n",
       "\n",
       "    .dataframe tbody tr th {\n",
       "        vertical-align: top;\n",
       "    }\n",
       "\n",
       "    .dataframe thead th {\n",
       "        text-align: right;\n",
       "    }\n",
       "</style>\n",
       "<table border=\"1\" class=\"dataframe\">\n",
       "  <thead>\n",
       "    <tr style=\"text-align: right;\">\n",
       "      <th>VehicleCategory</th>\n",
       "      <th>Sedan</th>\n",
       "      <th>Sport</th>\n",
       "      <th>Utility</th>\n",
       "    </tr>\n",
       "    <tr>\n",
       "      <th>FraudFound_P</th>\n",
       "      <th></th>\n",
       "      <th></th>\n",
       "      <th></th>\n",
       "    </tr>\n",
       "  </thead>\n",
       "  <tbody>\n",
       "    <tr>\n",
       "      <th>0</th>\n",
       "      <td>8876</td>\n",
       "      <td>5274</td>\n",
       "      <td>347</td>\n",
       "    </tr>\n",
       "    <tr>\n",
       "      <th>1</th>\n",
       "      <td>795</td>\n",
       "      <td>84</td>\n",
       "      <td>44</td>\n",
       "    </tr>\n",
       "  </tbody>\n",
       "</table>\n",
       "</div>"
      ],
      "text/plain": [
       "VehicleCategory  Sedan  Sport  Utility\n",
       "FraudFound_P                          \n",
       "0                 8876   5274      347\n",
       "1                  795     84       44"
      ]
     },
     "execution_count": 25,
     "metadata": {},
     "output_type": "execute_result"
    },
    {
     "data": {
      "image/png": "[encoded data removed]",
      "text/plain": [
       "<Figure size 288x288 with 1 Axes>"
      ]
     },
     "metadata": {
      "needs_background": "light"
     },
     "output_type": "display_data"
    }
   ],
   "source": [
    "sedf=((insur['VehicleCategory']=='Sedan') & (insur['FraudFound_P']==1)).sum()\n",
    "spof=((insur['VehicleCategory']=='Sport') & (insur['FraudFound_P']==1)).sum()\n",
    "utif=((insur['VehicleCategory']=='Utility') & (insur['FraudFound_P']==1)).sum()\n",
    "xdat=np.array(['Sedan','Sport','Utility'])\n",
    "ydat=np.array([sedf,spof,utif])\n",
    "plt.figure(figsize=(4,4))\n",
    "plt.bar(xdat,ydat, color=['crimson','lightgreen','mediumpurple'])\n",
    "plt.xlabel('Vehicle Category')\n",
    "plt.ylabel('Frauds')\n",
    "plt.title('Frauds relating to Vehicle Category')\n",
    "pd.crosstab(insur['FraudFound_P'], insur['VehicleCategory'])"
   ]
  },
  {
   "cell_type": "code",
   "execution_count": 26,
   "metadata": {},
   "outputs": [
    {
     "data": {
      "text/plain": [
       "([<matplotlib.patches.Wedge at 0x203d19d94a8>,\n",
       "  <matplotlib.patches.Wedge at 0x203d19bc588>,\n",
       "  <matplotlib.patches.Wedge at 0x203d19bcd30>],\n",
       " [Text(-0.9972459739905716, 0.46422027891895956, 'Sedan'),\n",
       "  Text(1.000167880292671, -0.6630717994537739, 'Sport'),\n",
       "  Text(1.1865679538024714, -0.17904326574606572, 'Utility')],\n",
       " [Text(-0.5439523494494026, 0.2532110612285234, '86.1%'),\n",
       "  Text(0.5834312635040579, -0.38679188301470147, '9.1%'),\n",
       "  Text(0.6921646397181083, -0.10444190501853833, '4.8%')])"
      ]
     },
     "execution_count": 26,
     "metadata": {},
     "output_type": "execute_result"
    },
    {
     "data": {
      "image/png": "[encoded data removed]",
      "text/plain": [
       "<Figure size 432x288 with 1 Axes>"
      ]
     },
     "metadata": {},
     "output_type": "display_data"
    }
   ],
   "source": [
    "plt.pie(x=ydat, labels=xdat, autopct='%1.1f%%', explode=[0,0.1,0.1])"
   ]
  },
  {
   "cell_type": "code",
   "execution_count": 27,
   "metadata": {},
   "outputs": [
    {
     "data": {
      "text/plain": [
       "Text(0.5, 1.0, 'Sedan')"
      ]
     },
     "execution_count": 27,
     "metadata": {},
     "output_type": "execute_result"
    },
    {
     "data": {
      "image/png": "[encoded data removed]",
      "text/plain": [
       "<Figure size 288x288 with 1 Axes>"
      ]
     },
     "metadata": {
      "needs_background": "light"
     },
     "output_type": "display_data"
    }
   ],
   "source": [
    "alpf=((insur['PolicyType']=='Sedan - All Perils') & (insur['FraudFound_P']==1)).sum()\n",
    "colf=((insur['PolicyType']=='Sedan - Collision') & (insur['FraudFound_P']==1)).sum()\n",
    "liaf=((insur['PolicyType']=='Sedan - Liability') & (insur['FraudFound_P']==1)).sum()\n",
    "xdat=np.array(['All Perils','Collision','Liability'])\n",
    "ydat=np.array([alpf,colf,liaf])\n",
    "plt.figure(figsize=(4,4))\n",
    "plt.bar(xdat,ydat, color={'cadetblue','olive','darkseagreen'})\n",
    "plt.xlabel('Policy Type')\n",
    "plt.ylabel('Frauds')\n",
    "plt.title('Sedan')"
   ]
  },
  {
   "cell_type": "code",
   "execution_count": 28,
   "metadata": {},
   "outputs": [
    {
     "data": {
      "text/plain": [
       "([<matplotlib.patches.Wedge at 0x203d17f8208>,\n",
       "  <matplotlib.patches.Wedge at 0x203d0fb6278>,\n",
       "  <matplotlib.patches.Wedge at 0x203d0fb6358>],\n",
       " [Text(0.018712586250341168, 1.0998408244449847, 'All Perils'),\n",
       "  Text(-0.1677639230573555, -1.087131669173705, 'Collision'),\n",
       "  Text(1.1889035528133534, -0.16281382652522494, 'Liability')])"
      ]
     },
     "execution_count": 28,
     "metadata": {},
     "output_type": "execute_result"
    },
    {
     "data": {
      "image/png": "[encoded data removed]",
      "text/plain": [
       "<Figure size 432x288 with 1 Axes>"
      ]
     },
     "metadata": {},
     "output_type": "display_data"
    }
   ],
   "source": [
    "plt.pie(x=ydat, labels=xdat, explode=[0,0,0.1])"
   ]
  },
  {
   "cell_type": "code",
   "execution_count": 29,
   "metadata": {},
   "outputs": [
    {
     "data": {
      "text/plain": [
       "Text(0.5, 1.0, 'Sport')"
      ]
     },
     "execution_count": 29,
     "metadata": {},
     "output_type": "execute_result"
    },
    {
     "data": {
      "image/png": "[encoded data removed]",
      "text/plain": [
       "<Figure size 288x288 with 1 Axes>"
      ]
     },
     "metadata": {
      "needs_background": "light"
     },
     "output_type": "display_data"
    }
   ],
   "source": [
    "alpf=((insur['PolicyType']=='Sport - All Perils') & (insur['FraudFound_P']==1)).sum()\n",
    "colf=((insur['PolicyType']=='Sport - Collision') & (insur['FraudFound_P']==1)).sum()\n",
    "liaf=((insur['PolicyType']=='Sport - Liability') & (insur['FraudFound_P']==1)).sum()\n",
    "xdat=np.array(['All Perils','Collision','Liability'])\n",
    "ydat=np.array([alpf,colf,liaf])\n",
    "plt.figure(figsize=(4,4))\n",
    "plt.bar(xdat,ydat, color={'darkgoldenrod'})\n",
    "plt.xlabel('Policy Type')\n",
    "plt.ylabel('Frauds')\n",
    "plt.title('Sport')"
   ]
  },
  {
   "cell_type": "code",
   "execution_count": 60,
   "metadata": {},
   "outputs": [
    {
     "data": {
      "text/plain": [
       "Text(0.5, 1.0, 'Utility')"
      ]
     },
     "execution_count": 60,
     "metadata": {},
     "output_type": "execute_result"
    },
    {
     "data": {
      "image/png": "[encoded data removed]",
      "text/plain": [
       "<Figure size 288x288 with 1 Axes>"
      ]
     },
     "metadata": {
      "needs_background": "light"
     },
     "output_type": "display_data"
    }
   ],
   "source": [
    "alpf=((insur['PolicyType']=='Utility - All Perils') & (insur['FraudFound_P']==1)).sum()\n",
    "colf=((insur['PolicyType']=='Utility - Collision') & (insur['FraudFound_P']==1)).sum()\n",
    "liaf=((insur['PolicyType']=='Utility - Liability') & (insur['FraudFound_P']==1)).sum()\n",
    "xdat=np.array(['All Perils','Collision','Liability'])\n",
    "ydat=np.array([alpf,colf,liaf])\n",
    "plt.figure(figsize=(4,4))\n",
    "plt.bar(xdat,ydat, color={'darkslategray','paleturquoise'})\n",
    "plt.xlabel('Policy Type')\n",
    "plt.ylabel('Frauds')\n",
    "plt.title('Utility')"
   ]
  },
  {
   "cell_type": "code",
   "execution_count": null,
   "metadata": {},
   "outputs": [],
   "source": []
  },
  {
   "cell_type": "code",
   "execution_count": 61,
   "metadata": {},
   "outputs": [
    {
     "data": {
      "text/html": [
       "<div>\n",
       "<style scoped>\n",
       "    .dataframe tbody tr th:only-of-type {\n",
       "        vertical-align: middle;\n",
       "    }\n",
       "\n",
       "    .dataframe tbody tr th {\n",
       "        vertical-align: top;\n",
       "    }\n",
       "\n",
       "    .dataframe thead th {\n",
       "        text-align: right;\n",
       "    }\n",
       "</style>\n",
       "<table border=\"1\" class=\"dataframe\">\n",
       "  <thead>\n",
       "    <tr style=\"text-align: right;\">\n",
       "      <th>Fault</th>\n",
       "      <th>Policy Holder</th>\n",
       "      <th>Third Party</th>\n",
       "    </tr>\n",
       "    <tr>\n",
       "      <th>FraudFound_P</th>\n",
       "      <th></th>\n",
       "      <th></th>\n",
       "    </tr>\n",
       "  </thead>\n",
       "  <tbody>\n",
       "    <tr>\n",
       "      <th>0</th>\n",
       "      <td>10344</td>\n",
       "      <td>4153</td>\n",
       "    </tr>\n",
       "    <tr>\n",
       "      <th>1</th>\n",
       "      <td>886</td>\n",
       "      <td>37</td>\n",
       "    </tr>\n",
       "  </tbody>\n",
       "</table>\n",
       "</div>"
      ],
      "text/plain": [
       "Fault         Policy Holder  Third Party\n",
       "FraudFound_P                            \n",
       "0                     10344         4153\n",
       "1                       886           37"
      ]
     },
     "execution_count": 61,
     "metadata": {},
     "output_type": "execute_result"
    },
    {
     "data": {
      "image/png": "[encoded data removed]",
      "text/plain": [
       "<Figure size 216x288 with 1 Axes>"
      ]
     },
     "metadata": {
      "needs_background": "light"
     },
     "output_type": "display_data"
    }
   ],
   "source": [
    "plhf=((insur['Fault']=='Policy Holder') & (insur['FraudFound_P']==1)).sum()\n",
    "thrf=((insur['Fault']=='Third Party') & (insur['FraudFound_P']==1)).sum()\n",
    "xdat=np.array(['Policy Holder','Third Party'])\n",
    "ydat=np.array([plhf,thrf])\n",
    "plt.figure(figsize=(3,4))\n",
    "plt.bar(xdat,ydat, color={'tan','mediumspringgreen'})\n",
    "plt.xlabel('Fault')\n",
    "plt.ylabel('Frauds')\n",
    "plt.title('Frauds relating to Fault')\n",
    "pd.crosstab(insur['FraudFound_P'], insur['Fault'])"
   ]
  },
  {
   "cell_type": "code",
   "execution_count": 62,
   "metadata": {},
   "outputs": [
    {
     "data": {
      "text/html": [
       "<div>\n",
       "<style scoped>\n",
       "    .dataframe tbody tr th:only-of-type {\n",
       "        vertical-align: middle;\n",
       "    }\n",
       "\n",
       "    .dataframe tbody tr th {\n",
       "        vertical-align: top;\n",
       "    }\n",
       "\n",
       "    .dataframe thead th {\n",
       "        text-align: right;\n",
       "    }\n",
       "</style>\n",
       "<table border=\"1\" class=\"dataframe\">\n",
       "  <thead>\n",
       "    <tr style=\"text-align: right;\">\n",
       "      <th>PoliceReportFiled</th>\n",
       "      <th>No</th>\n",
       "      <th>Yes</th>\n",
       "    </tr>\n",
       "    <tr>\n",
       "      <th>FraudFound_P</th>\n",
       "      <th></th>\n",
       "      <th></th>\n",
       "    </tr>\n",
       "  </thead>\n",
       "  <tbody>\n",
       "    <tr>\n",
       "      <th>0</th>\n",
       "      <td>14085</td>\n",
       "      <td>412</td>\n",
       "    </tr>\n",
       "    <tr>\n",
       "      <th>1</th>\n",
       "      <td>907</td>\n",
       "      <td>16</td>\n",
       "    </tr>\n",
       "  </tbody>\n",
       "</table>\n",
       "</div>"
      ],
      "text/plain": [
       "PoliceReportFiled     No  Yes\n",
       "FraudFound_P                 \n",
       "0                  14085  412\n",
       "1                    907   16"
      ]
     },
     "execution_count": 62,
     "metadata": {},
     "output_type": "execute_result"
    },
    {
     "data": {
      "image/png": "[encoded data removed]",
      "text/plain": [
       "<Figure size 216x288 with 1 Axes>"
      ]
     },
     "metadata": {
      "needs_background": "light"
     },
     "output_type": "display_data"
    }
   ],
   "source": [
    "yef=((insur['PoliceReportFiled']=='Yes') & (insur['FraudFound_P']==1)).sum()\n",
    "nof=((insur['PoliceReportFiled']=='No') & (insur['FraudFound_P']==1)).sum()\n",
    "xdat=np.array(['Yes','No'])\n",
    "ydat=np.array([yef,nof])\n",
    "plt.figure(figsize=(3,4))\n",
    "plt.bar(xdat,ydat, color={'khaki','gold'})\n",
    "plt.xlabel('Police Report Filed')\n",
    "plt.ylabel('Frauds')\n",
    "plt.title('Frauds relating to Police Report Filed')\n",
    "pd.crosstab(insur['FraudFound_P'], insur['PoliceReportFiled'])"
   ]
  },
  {
   "cell_type": "code",
   "execution_count": 63,
   "metadata": {},
   "outputs": [
    {
     "data": {
      "text/html": [
       "<div>\n",
       "<style scoped>\n",
       "    .dataframe tbody tr th:only-of-type {\n",
       "        vertical-align: middle;\n",
       "    }\n",
       "\n",
       "    .dataframe tbody tr th {\n",
       "        vertical-align: top;\n",
       "    }\n",
       "\n",
       "    .dataframe thead th {\n",
       "        text-align: right;\n",
       "    }\n",
       "</style>\n",
       "<table border=\"1\" class=\"dataframe\">\n",
       "  <thead>\n",
       "    <tr style=\"text-align: right;\">\n",
       "      <th>WitnessPresent</th>\n",
       "      <th>No</th>\n",
       "      <th>Yes</th>\n",
       "    </tr>\n",
       "    <tr>\n",
       "      <th>FraudFound_P</th>\n",
       "      <th></th>\n",
       "      <th></th>\n",
       "    </tr>\n",
       "  </thead>\n",
       "  <tbody>\n",
       "    <tr>\n",
       "      <th>0</th>\n",
       "      <td>14413</td>\n",
       "      <td>84</td>\n",
       "    </tr>\n",
       "    <tr>\n",
       "      <th>1</th>\n",
       "      <td>920</td>\n",
       "      <td>3</td>\n",
       "    </tr>\n",
       "  </tbody>\n",
       "</table>\n",
       "</div>"
      ],
      "text/plain": [
       "WitnessPresent     No  Yes\n",
       "FraudFound_P              \n",
       "0               14413   84\n",
       "1                 920    3"
      ]
     },
     "execution_count": 63,
     "metadata": {},
     "output_type": "execute_result"
    },
    {
     "data": {
      "image/png": "[encoded data removed]",
      "text/plain": [
       "<Figure size 216x288 with 1 Axes>"
      ]
     },
     "metadata": {
      "needs_background": "light"
     },
     "output_type": "display_data"
    }
   ],
   "source": [
    "yef=((insur['WitnessPresent']=='Yes') & (insur['FraudFound_P']==1)).sum()\n",
    "nof=((insur['WitnessPresent']=='No') & (insur['FraudFound_P']==1)).sum()\n",
    "xdat=np.array(['Yes','No'])\n",
    "ydat=np.array([yef,nof])\n",
    "plt.figure(figsize=(3,4))\n",
    "plt.bar(xdat,ydat, color=['teal','orangered'])\n",
    "plt.xlabel('Witness Present')\n",
    "plt.ylabel('Frauds')\n",
    "plt.title('Frauds relating to Witness Present')\n",
    "pd.crosstab(insur['FraudFound_P'], insur['WitnessPresent'])"
   ]
  },
  {
   "cell_type": "code",
   "execution_count": 17,
   "metadata": {},
   "outputs": [
    {
     "data": {
      "text/plain": [
       "Text(0.5, 1.0, 'Witness Present')"
      ]
     },
     "execution_count": 17,
     "metadata": {},
     "output_type": "execute_result"
    },
    {
     "data": {
      "image/png": "[encoded data removed]",
      "text/plain": [
       "<Figure size 432x288 with 1 Axes>"
      ]
     },
     "metadata": {},
     "output_type": "display_data"
    }
   ],
   "source": [
    "plt.pie(x=np.array([wpy0,wpy1]), labels=np.array(['Not Fraud','Fraud']), colors=['teal','orangered'], autopct='%1.1f%%', explode=[0,0.1])\n",
    "plt.title('Witness Present')"
   ]
  },
  {
   "cell_type": "code",
   "execution_count": 16,
   "metadata": {},
   "outputs": [
    {
     "data": {
      "text/plain": [
       "Text(0.5, 1.0, 'Witness Absent')"
      ]
     },
     "execution_count": 16,
     "metadata": {},
     "output_type": "execute_result"
    },
    {
     "data": {
      "image/png": "[encoded data removed]",
      "text/plain": [
       "<Figure size 432x288 with 1 Axes>"
      ]
     },
     "metadata": {},
     "output_type": "display_data"
    }
   ],
   "source": [
    "wpn0=14413\n",
    "wpn1=920\n",
    "wpy0=84\n",
    "wpy1=3\n",
    "plt.pie(x=np.array([wpn0,wpn1]), labels=np.array(['Not Fraud','Fraud']), colors=['teal','orangered'], autopct='%1.1f%%', explode=[0,0.1])\n",
    "plt.title('Witness Absent')"
   ]
  },
  {
   "cell_type": "code",
   "execution_count": 64,
   "metadata": {},
   "outputs": [
    {
     "data": {
      "image/png": "[encoded data removed]",
      "text/plain": [
       "<Figure size 432x288 with 1 Axes>"
      ]
     },
     "metadata": {},
     "output_type": "display_data"
    }
   ],
   "source": [
    "colors = ['lightgreen','crimson']\n",
    "fig1, ax1 = plt.subplots()\n",
    "ax1.pie(x=ydat, labels=xdat, autopct='%1.1f%%',colors=colors)\n",
    "centre_circle = plt.Circle((0,0),0.75,fc='white')\n",
    "fig = plt.gcf()\n",
    "fig.gca().add_artist(centre_circle)\n",
    "ax1.axis('equal')  \n",
    "plt.tight_layout()\n",
    "plt.title(\"Witness Present\")\n",
    "plt.show()"
   ]
  },
  {
   "cell_type": "code",
   "execution_count": 20,
   "metadata": {},
   "outputs": [
    {
     "data": {
      "text/html": [
       "<div>\n",
       "<style scoped>\n",
       "    .dataframe tbody tr th:only-of-type {\n",
       "        vertical-align: middle;\n",
       "    }\n",
       "\n",
       "    .dataframe tbody tr th {\n",
       "        vertical-align: top;\n",
       "    }\n",
       "\n",
       "    .dataframe thead th {\n",
       "        text-align: right;\n",
       "    }\n",
       "</style>\n",
       "<table border=\"1\" class=\"dataframe\">\n",
       "  <thead>\n",
       "    <tr style=\"text-align: right;\">\n",
       "      <th>AgentType</th>\n",
       "      <th>External</th>\n",
       "      <th>Internal</th>\n",
       "    </tr>\n",
       "    <tr>\n",
       "      <th>FraudFound_P</th>\n",
       "      <th></th>\n",
       "      <th></th>\n",
       "    </tr>\n",
       "  </thead>\n",
       "  <tbody>\n",
       "    <tr>\n",
       "      <th>0</th>\n",
       "      <td>14260</td>\n",
       "      <td>237</td>\n",
       "    </tr>\n",
       "    <tr>\n",
       "      <th>1</th>\n",
       "      <td>919</td>\n",
       "      <td>4</td>\n",
       "    </tr>\n",
       "  </tbody>\n",
       "</table>\n",
       "</div>"
      ],
      "text/plain": [
       "AgentType     External  Internal\n",
       "FraudFound_P                    \n",
       "0                14260       237\n",
       "1                  919         4"
      ]
     },
     "execution_count": 20,
     "metadata": {},
     "output_type": "execute_result"
    },
    {
     "data": {
      "image/png": "[encoded data removed]",
      "text/plain": [
       "<Figure size 216x288 with 1 Axes>"
      ]
     },
     "metadata": {
      "needs_background": "light"
     },
     "output_type": "display_data"
    }
   ],
   "source": [
    "extf=((insur['AgentType']=='External') & (insur['FraudFound_P']==1)).sum()\n",
    "intf=((insur['AgentType']=='Internal') & (insur['FraudFound_P']==1)).sum()\n",
    "xdat=np.array(['External','Internal'])\n",
    "ydat=np.array([extf,intf])\n",
    "plt.figure(figsize=(3,4))\n",
    "plt.bar(xdat,ydat, color={'forestgreen','teal'})\n",
    "plt.xlabel('Agent Type')\n",
    "plt.ylabel('Frauds')\n",
    "plt.title('Frauds relating to Agent Type')\n",
    "pd.crosstab(insur['FraudFound_P'], insur['AgentType'])"
   ]
  },
  {
   "cell_type": "code",
   "execution_count": 21,
   "metadata": {},
   "outputs": [
    {
     "data": {
      "text/plain": [
       "Text(0.5, 1.0, 'Agent Type')"
      ]
     },
     "execution_count": 21,
     "metadata": {},
     "output_type": "execute_result"
    },
    {
     "data": {
      "image/png": "[encoded data removed]",
      "text/plain": [
       "<Figure size 432x288 with 1 Axes>"
      ]
     },
     "metadata": {},
     "output_type": "display_data"
    }
   ],
   "source": [
    "plt.pie(x=ydat, labels=xdat, colors=['seagreen','red'], autopct='%1.1f%%' ,explode=[0.6,0])\n",
    "plt.title(\"External\")"
   ]
  },
  {
   "cell_type": "code",
   "execution_count": 67,
   "metadata": {},
   "outputs": [
    {
     "data": {
      "text/html": [
       "<div>\n",
       "<style scoped>\n",
       "    .dataframe tbody tr th:only-of-type {\n",
       "        vertical-align: middle;\n",
       "    }\n",
       "\n",
       "    .dataframe tbody tr th {\n",
       "        vertical-align: top;\n",
       "    }\n",
       "\n",
       "    .dataframe thead th {\n",
       "        text-align: right;\n",
       "    }\n",
       "</style>\n",
       "<table border=\"1\" class=\"dataframe\">\n",
       "  <thead>\n",
       "    <tr style=\"text-align: right;\">\n",
       "      <th>DriverRating</th>\n",
       "      <th>1</th>\n",
       "      <th>2</th>\n",
       "      <th>3</th>\n",
       "      <th>4</th>\n",
       "    </tr>\n",
       "    <tr>\n",
       "      <th>FraudFound_P</th>\n",
       "      <th></th>\n",
       "      <th></th>\n",
       "      <th></th>\n",
       "      <th></th>\n",
       "    </tr>\n",
       "  </thead>\n",
       "  <tbody>\n",
       "    <tr>\n",
       "      <th>0</th>\n",
       "      <td>3712</td>\n",
       "      <td>3587</td>\n",
       "      <td>3642</td>\n",
       "      <td>3556</td>\n",
       "    </tr>\n",
       "    <tr>\n",
       "      <th>1</th>\n",
       "      <td>232</td>\n",
       "      <td>214</td>\n",
       "      <td>242</td>\n",
       "      <td>235</td>\n",
       "    </tr>\n",
       "  </tbody>\n",
       "</table>\n",
       "</div>"
      ],
      "text/plain": [
       "DriverRating     1     2     3     4\n",
       "FraudFound_P                        \n",
       "0             3712  3587  3642  3556\n",
       "1              232   214   242   235"
      ]
     },
     "execution_count": 67,
     "metadata": {},
     "output_type": "execute_result"
    },
    {
     "data": {
      "image/png": "[encoded data removed]",
      "text/plain": [
       "<Figure size 360x288 with 1 Axes>"
      ]
     },
     "metadata": {
      "needs_background": "light"
     },
     "output_type": "display_data"
    }
   ],
   "source": [
    "onef=((insur['DriverRating']==1) & (insur['FraudFound_P']==1)).sum()\n",
    "twof=((insur['DriverRating']==2) & (insur['FraudFound_P']==1)).sum()\n",
    "thrf=((insur['DriverRating']==3) & (insur['FraudFound_P']==1)).sum()\n",
    "fouf=((insur['DriverRating']==4) & (insur['FraudFound_P']==1)).sum()\n",
    "xdat=np.array(['1','2','3','4'])\n",
    "ydat=np.array([onef,twof,thrf,fouf])\n",
    "plt.figure(figsize=(5,4))\n",
    "plt.bar(xdat,ydat, color=['darkred','rosybrown','indianred','lightcoral'])\n",
    "plt.xlabel('Driver Rating')\n",
    "plt.ylabel('Frauds')\n",
    "plt.title('Frauds relating to Driver Rating')\n",
    "pd.crosstab(insur['FraudFound_P'], insur['DriverRating'])"
   ]
  },
  {
   "cell_type": "code",
   "execution_count": 68,
   "metadata": {},
   "outputs": [
    {
     "data": {
      "text/plain": [
       "Text(0.5, 1.0, '1994')"
      ]
     },
     "execution_count": 68,
     "metadata": {},
     "output_type": "execute_result"
    },
    {
     "data": {
      "image/png": "[encoded data removed]",
      "text/plain": [
       "<Figure size 360x288 with 1 Axes>"
      ]
     },
     "metadata": {
      "needs_background": "light"
     },
     "output_type": "display_data"
    }
   ],
   "source": [
    "onef=((insur['DriverRating']==1) & (insur['FraudFound_P']==1) & (insur['Year']==1994)).sum()\n",
    "twof=((insur['DriverRating']==2) & (insur['FraudFound_P']==1) & (insur['Year']==1994)).sum()\n",
    "thrf=((insur['DriverRating']==3) & (insur['FraudFound_P']==1) & (insur['Year']==1994)).sum()\n",
    "fouf=((insur['DriverRating']==4) & (insur['FraudFound_P']==1) & (insur['Year']==1994)).sum()\n",
    "xdat=np.array(['1','2','3','4'])\n",
    "ydat=np.array([onef,twof,thrf,fouf])\n",
    "plt.figure(figsize=(5,4))\n",
    "plt.bar(xdat,ydat, color=['darkred','rosybrown','indianred','lightcoral'])\n",
    "plt.xlabel('Driver Rating')\n",
    "plt.ylabel('Frauds')\n",
    "plt.title('1994')"
   ]
  },
  {
   "cell_type": "code",
   "execution_count": 69,
   "metadata": {},
   "outputs": [
    {
     "data": {
      "text/plain": [
       "Text(0.5, 1.0, '1995')"
      ]
     },
     "execution_count": 69,
     "metadata": {},
     "output_type": "execute_result"
    },
    {
     "data": {
      "image/png": "[encoded data removed]",
      "text/plain": [
       "<Figure size 360x288 with 1 Axes>"
      ]
     },
     "metadata": {
      "needs_background": "light"
     },
     "output_type": "display_data"
    }
   ],
   "source": [
    "onef=((insur['DriverRating']==1) & (insur['FraudFound_P']==1) & (insur['Year']==1995)).sum()\n",
    "twof=((insur['DriverRating']==2) & (insur['FraudFound_P']==1) & (insur['Year']==1995)).sum()\n",
    "thrf=((insur['DriverRating']==3) & (insur['FraudFound_P']==1) & (insur['Year']==1995)).sum()\n",
    "fouf=((insur['DriverRating']==4) & (insur['FraudFound_P']==1) & (insur['Year']==1995)).sum()\n",
    "xdat=np.array(['1','2','3','4'])\n",
    "ydat=np.array([onef,twof,thrf,fouf])\n",
    "plt.figure(figsize=(5,4))\n",
    "plt.bar(xdat,ydat, color=['darkred','rosybrown','indianred','lightcoral'])\n",
    "plt.xlabel('Driver Rating')\n",
    "plt.ylabel('Frauds')\n",
    "plt.title('1995')"
   ]
  },
  {
   "cell_type": "code",
   "execution_count": 70,
   "metadata": {},
   "outputs": [
    {
     "data": {
      "text/plain": [
       "Text(0.5, 1.0, '1996')"
      ]
     },
     "execution_count": 70,
     "metadata": {},
     "output_type": "execute_result"
    },
    {
     "data": {
      "image/png": "[encoded data removed]",
      "text/plain": [
       "<Figure size 360x288 with 1 Axes>"
      ]
     },
     "metadata": {
      "needs_background": "light"
     },
     "output_type": "display_data"
    }
   ],
   "source": [
    "onef=((insur['DriverRating']==1) & (insur['FraudFound_P']==1) & (insur['Year']==1996)).sum()\n",
    "twof=((insur['DriverRating']==2) & (insur['FraudFound_P']==1) & (insur['Year']==1996)).sum()\n",
    "thrf=((insur['DriverRating']==3) & (insur['FraudFound_P']==1) & (insur['Year']==1996)).sum()\n",
    "fouf=((insur['DriverRating']==4) & (insur['FraudFound_P']==1) & (insur['Year']==1996)).sum()\n",
    "xdat=np.array(['1','2','3','4'])\n",
    "ydat=np.array([onef,twof,thrf,fouf])\n",
    "plt.figure(figsize=(5,4))\n",
    "plt.bar(xdat,ydat, color=['darkred','rosybrown','indianred','lightcoral'])\n",
    "plt.xlabel('Driver Rating')\n",
    "plt.ylabel('Frauds')\n",
    "plt.title('1996')"
   ]
  },
  {
   "cell_type": "code",
   "execution_count": 71,
   "metadata": {},
   "outputs": [
    {
     "data": {
      "text/plain": [
       "Text(0.5, 1.0, 'Driver Rating')"
      ]
     },
     "execution_count": 71,
     "metadata": {},
     "output_type": "execute_result"
    },
    {
     "data": {
      "image/png": "[encoded data removed]",
      "text/plain": [
       "<Figure size 432x288 with 1 Axes>"
      ]
     },
     "metadata": {},
     "output_type": "display_data"
    }
   ],
   "source": [
    "plt.pie(x=ydat, labels=xdat, autopct='%1.1f%%', startangle=90, explode=[0,0.05,0,0.1])\n",
    "plt.title(\"Driver Rating\")"
   ]
  },
  {
   "cell_type": "code",
   "execution_count": 72,
   "metadata": {},
   "outputs": [
    {
     "data": {
      "text/plain": [
       "(2, 19)"
      ]
     },
     "execution_count": 72,
     "metadata": {},
     "output_type": "execute_result"
    }
   ],
   "source": [
    "pd.crosstab(insur['FraudFound_P'], insur['Make']).shape"
   ]
  },
  {
   "cell_type": "code",
   "execution_count": 73,
   "metadata": {},
   "outputs": [
    {
     "data": {
      "text/html": [
       "<div>\n",
       "<style scoped>\n",
       "    .dataframe tbody tr th:only-of-type {\n",
       "        vertical-align: middle;\n",
       "    }\n",
       "\n",
       "    .dataframe tbody tr th {\n",
       "        vertical-align: top;\n",
       "    }\n",
       "\n",
       "    .dataframe thead th {\n",
       "        text-align: right;\n",
       "    }\n",
       "</style>\n",
       "<table border=\"1\" class=\"dataframe\">\n",
       "  <thead>\n",
       "    <tr style=\"text-align: right;\">\n",
       "      <th>VehiclePrice</th>\n",
       "      <th>20000 to 29000</th>\n",
       "      <th>30000 to 39000</th>\n",
       "      <th>40000 to 59000</th>\n",
       "      <th>60000 to 69000</th>\n",
       "      <th>less than 20000</th>\n",
       "      <th>more than 69000</th>\n",
       "    </tr>\n",
       "    <tr>\n",
       "      <th>FraudFound_P</th>\n",
       "      <th></th>\n",
       "      <th></th>\n",
       "      <th></th>\n",
       "      <th></th>\n",
       "      <th></th>\n",
       "      <th></th>\n",
       "    </tr>\n",
       "  </thead>\n",
       "  <tbody>\n",
       "    <tr>\n",
       "      <th>0</th>\n",
       "      <td>7658</td>\n",
       "      <td>3358</td>\n",
       "      <td>430</td>\n",
       "      <td>83</td>\n",
       "      <td>993</td>\n",
       "      <td>1975</td>\n",
       "    </tr>\n",
       "    <tr>\n",
       "      <th>1</th>\n",
       "      <td>421</td>\n",
       "      <td>175</td>\n",
       "      <td>31</td>\n",
       "      <td>4</td>\n",
       "      <td>103</td>\n",
       "      <td>189</td>\n",
       "    </tr>\n",
       "  </tbody>\n",
       "</table>\n",
       "</div>"
      ],
      "text/plain": [
       "VehiclePrice  20000 to 29000  30000 to 39000  40000 to 59000  60000 to 69000  \\\n",
       "FraudFound_P                                                                   \n",
       "0                       7658            3358             430              83   \n",
       "1                        421             175              31               4   \n",
       "\n",
       "VehiclePrice  less than 20000  more than 69000  \n",
       "FraudFound_P                                    \n",
       "0                         993             1975  \n",
       "1                         103              189  "
      ]
     },
     "execution_count": 73,
     "metadata": {},
     "output_type": "execute_result"
    }
   ],
   "source": [
    "pd.crosstab(insur['FraudFound_P'], insur['VehiclePrice'])"
   ]
  },
  {
   "cell_type": "code",
   "execution_count": 74,
   "metadata": {},
   "outputs": [
    {
     "data": {
      "text/html": [
       "<div>\n",
       "<style scoped>\n",
       "    .dataframe tbody tr th:only-of-type {\n",
       "        vertical-align: middle;\n",
       "    }\n",
       "\n",
       "    .dataframe tbody tr th {\n",
       "        vertical-align: top;\n",
       "    }\n",
       "\n",
       "    .dataframe thead th {\n",
       "        text-align: right;\n",
       "    }\n",
       "</style>\n",
       "<table border=\"1\" class=\"dataframe\">\n",
       "  <thead>\n",
       "    <tr style=\"text-align: right;\">\n",
       "      <th>Deductible</th>\n",
       "      <th>300</th>\n",
       "      <th>400</th>\n",
       "      <th>500</th>\n",
       "      <th>700</th>\n",
       "    </tr>\n",
       "    <tr>\n",
       "      <th>FraudFound_P</th>\n",
       "      <th></th>\n",
       "      <th></th>\n",
       "      <th></th>\n",
       "      <th></th>\n",
       "    </tr>\n",
       "  </thead>\n",
       "  <tbody>\n",
       "    <tr>\n",
       "      <th>0</th>\n",
       "      <td>6</td>\n",
       "      <td>13982</td>\n",
       "      <td>216</td>\n",
       "      <td>293</td>\n",
       "    </tr>\n",
       "    <tr>\n",
       "      <th>1</th>\n",
       "      <td>2</td>\n",
       "      <td>856</td>\n",
       "      <td>47</td>\n",
       "      <td>18</td>\n",
       "    </tr>\n",
       "  </tbody>\n",
       "</table>\n",
       "</div>"
      ],
      "text/plain": [
       "Deductible    300    400  500  700\n",
       "FraudFound_P                      \n",
       "0               6  13982  216  293\n",
       "1               2    856   47   18"
      ]
     },
     "execution_count": 74,
     "metadata": {},
     "output_type": "execute_result"
    }
   ],
   "source": [
    "pd.crosstab(insur['FraudFound_P'], insur['Deductible'])"
   ]
  },
  {
   "cell_type": "code",
   "execution_count": 75,
   "metadata": {},
   "outputs": [
    {
     "data": {
      "text/html": [
       "<div>\n",
       "<style scoped>\n",
       "    .dataframe tbody tr th:only-of-type {\n",
       "        vertical-align: middle;\n",
       "    }\n",
       "\n",
       "    .dataframe tbody tr th {\n",
       "        vertical-align: top;\n",
       "    }\n",
       "\n",
       "    .dataframe thead th {\n",
       "        text-align: right;\n",
       "    }\n",
       "</style>\n",
       "<table border=\"1\" class=\"dataframe\">\n",
       "  <thead>\n",
       "    <tr style=\"text-align: right;\">\n",
       "      <th>PastNumberOfClaims</th>\n",
       "      <th>1</th>\n",
       "      <th>2 to 4</th>\n",
       "      <th>more than 4</th>\n",
       "      <th>none</th>\n",
       "    </tr>\n",
       "    <tr>\n",
       "      <th>FraudFound_P</th>\n",
       "      <th></th>\n",
       "      <th></th>\n",
       "      <th></th>\n",
       "      <th></th>\n",
       "    </tr>\n",
       "  </thead>\n",
       "  <tbody>\n",
       "    <tr>\n",
       "      <th>0</th>\n",
       "      <td>3351</td>\n",
       "      <td>5191</td>\n",
       "      <td>1942</td>\n",
       "      <td>4013</td>\n",
       "    </tr>\n",
       "    <tr>\n",
       "      <th>1</th>\n",
       "      <td>222</td>\n",
       "      <td>294</td>\n",
       "      <td>68</td>\n",
       "      <td>339</td>\n",
       "    </tr>\n",
       "  </tbody>\n",
       "</table>\n",
       "</div>"
      ],
      "text/plain": [
       "PastNumberOfClaims     1  2 to 4  more than 4  none\n",
       "FraudFound_P                                       \n",
       "0                   3351    5191         1942  4013\n",
       "1                    222     294           68   339"
      ]
     },
     "execution_count": 75,
     "metadata": {},
     "output_type": "execute_result"
    }
   ],
   "source": [
    "pd.crosstab(insur['FraudFound_P'], insur['PastNumberOfClaims'])"
   ]
  },
  {
   "cell_type": "code",
   "execution_count": 76,
   "metadata": {},
   "outputs": [
    {
     "data": {
      "text/html": [
       "<div>\n",
       "<style scoped>\n",
       "    .dataframe tbody tr th:only-of-type {\n",
       "        vertical-align: middle;\n",
       "    }\n",
       "\n",
       "    .dataframe tbody tr th {\n",
       "        vertical-align: top;\n",
       "    }\n",
       "\n",
       "    .dataframe thead th {\n",
       "        text-align: right;\n",
       "    }\n",
       "</style>\n",
       "<table border=\"1\" class=\"dataframe\">\n",
       "  <thead>\n",
       "    <tr style=\"text-align: right;\">\n",
       "      <th>AgeOfVehicle</th>\n",
       "      <th>2 years</th>\n",
       "      <th>3 years</th>\n",
       "      <th>4 years</th>\n",
       "      <th>5 years</th>\n",
       "      <th>6 years</th>\n",
       "      <th>7 years</th>\n",
       "      <th>more than 7</th>\n",
       "      <th>new</th>\n",
       "    </tr>\n",
       "    <tr>\n",
       "      <th>FraudFound_P</th>\n",
       "      <th></th>\n",
       "      <th></th>\n",
       "      <th></th>\n",
       "      <th></th>\n",
       "      <th></th>\n",
       "      <th></th>\n",
       "      <th></th>\n",
       "      <th></th>\n",
       "    </tr>\n",
       "  </thead>\n",
       "  <tbody>\n",
       "    <tr>\n",
       "      <th>0</th>\n",
       "      <td>70</td>\n",
       "      <td>139</td>\n",
       "      <td>208</td>\n",
       "      <td>1262</td>\n",
       "      <td>3220</td>\n",
       "      <td>5482</td>\n",
       "      <td>3775</td>\n",
       "      <td>341</td>\n",
       "    </tr>\n",
       "    <tr>\n",
       "      <th>1</th>\n",
       "      <td>3</td>\n",
       "      <td>13</td>\n",
       "      <td>21</td>\n",
       "      <td>95</td>\n",
       "      <td>228</td>\n",
       "      <td>325</td>\n",
       "      <td>206</td>\n",
       "      <td>32</td>\n",
       "    </tr>\n",
       "  </tbody>\n",
       "</table>\n",
       "</div>"
      ],
      "text/plain": [
       "AgeOfVehicle  2 years  3 years  4 years  5 years  6 years  7 years  \\\n",
       "FraudFound_P                                                         \n",
       "0                  70      139      208     1262     3220     5482   \n",
       "1                   3       13       21       95      228      325   \n",
       "\n",
       "AgeOfVehicle  more than 7  new  \n",
       "FraudFound_P                    \n",
       "0                    3775  341  \n",
       "1                     206   32  "
      ]
     },
     "execution_count": 76,
     "metadata": {},
     "output_type": "execute_result"
    }
   ],
   "source": [
    "pd.crosstab(insur['FraudFound_P'], insur['AgeOfVehicle'])"
   ]
  },
  {
   "cell_type": "code",
   "execution_count": 77,
   "metadata": {},
   "outputs": [
    {
     "data": {
      "text/html": [
       "<div>\n",
       "<style scoped>\n",
       "    .dataframe tbody tr th:only-of-type {\n",
       "        vertical-align: middle;\n",
       "    }\n",
       "\n",
       "    .dataframe tbody tr th {\n",
       "        vertical-align: top;\n",
       "    }\n",
       "\n",
       "    .dataframe thead th {\n",
       "        text-align: right;\n",
       "    }\n",
       "</style>\n",
       "<table border=\"1\" class=\"dataframe\">\n",
       "  <thead>\n",
       "    <tr style=\"text-align: right;\">\n",
       "      <th>NumberOfCars</th>\n",
       "      <th>1 vehicle</th>\n",
       "      <th>2 vehicles</th>\n",
       "      <th>3 to 4</th>\n",
       "      <th>5 to 8</th>\n",
       "      <th>more than 8</th>\n",
       "    </tr>\n",
       "    <tr>\n",
       "      <th>FraudFound_P</th>\n",
       "      <th></th>\n",
       "      <th></th>\n",
       "      <th></th>\n",
       "      <th></th>\n",
       "      <th></th>\n",
       "    </tr>\n",
       "  </thead>\n",
       "  <tbody>\n",
       "    <tr>\n",
       "      <th>0</th>\n",
       "      <td>13466</td>\n",
       "      <td>666</td>\n",
       "      <td>343</td>\n",
       "      <td>20</td>\n",
       "      <td>2</td>\n",
       "    </tr>\n",
       "    <tr>\n",
       "      <th>1</th>\n",
       "      <td>850</td>\n",
       "      <td>43</td>\n",
       "      <td>29</td>\n",
       "      <td>1</td>\n",
       "      <td>0</td>\n",
       "    </tr>\n",
       "  </tbody>\n",
       "</table>\n",
       "</div>"
      ],
      "text/plain": [
       "NumberOfCars  1 vehicle  2 vehicles  3 to 4  5 to 8  more than 8\n",
       "FraudFound_P                                                    \n",
       "0                 13466         666     343      20            2\n",
       "1                   850          43      29       1            0"
      ]
     },
     "execution_count": 77,
     "metadata": {},
     "output_type": "execute_result"
    }
   ],
   "source": [
    "pd.crosstab(insur['FraudFound_P'], insur['NumberOfCars'])"
   ]
  },
  {
   "cell_type": "code",
   "execution_count": 78,
   "metadata": {},
   "outputs": [
    {
     "data": {
      "text/html": [
       "<div>\n",
       "<style scoped>\n",
       "    .dataframe tbody tr th:only-of-type {\n",
       "        vertical-align: middle;\n",
       "    }\n",
       "\n",
       "    .dataframe tbody tr th {\n",
       "        vertical-align: top;\n",
       "    }\n",
       "\n",
       "    .dataframe thead th {\n",
       "        text-align: right;\n",
       "    }\n",
       "</style>\n",
       "<table border=\"1\" class=\"dataframe\">\n",
       "  <thead>\n",
       "    <tr style=\"text-align: right;\">\n",
       "      <th>FraudFound_P</th>\n",
       "      <th>0</th>\n",
       "      <th>1</th>\n",
       "    </tr>\n",
       "    <tr>\n",
       "      <th>BasePolicy</th>\n",
       "      <th></th>\n",
       "      <th></th>\n",
       "    </tr>\n",
       "  </thead>\n",
       "  <tbody>\n",
       "    <tr>\n",
       "      <th>All Perils</th>\n",
       "      <td>3997</td>\n",
       "      <td>452</td>\n",
       "    </tr>\n",
       "    <tr>\n",
       "      <th>Collision</th>\n",
       "      <td>5527</td>\n",
       "      <td>435</td>\n",
       "    </tr>\n",
       "    <tr>\n",
       "      <th>Liability</th>\n",
       "      <td>4973</td>\n",
       "      <td>36</td>\n",
       "    </tr>\n",
       "  </tbody>\n",
       "</table>\n",
       "</div>"
      ],
      "text/plain": [
       "FraudFound_P     0    1\n",
       "BasePolicy             \n",
       "All Perils    3997  452\n",
       "Collision     5527  435\n",
       "Liability     4973   36"
      ]
     },
     "execution_count": 78,
     "metadata": {},
     "output_type": "execute_result"
    }
   ],
   "source": [
    "pd.crosstab(insur['BasePolicy'], insur['FraudFound_P'])"
   ]
  },
  {
   "cell_type": "code",
   "execution_count": 30,
   "metadata": {},
   "outputs": [
    {
     "data": {
      "text/plain": [
       "<matplotlib.axes._subplots.AxesSubplot at 0x203d027bb38>"
      ]
     },
     "execution_count": 30,
     "metadata": {},
     "output_type": "execute_result"
    },
    {
     "data": {
      "image/png": "[encoded data removed]",
      "text/plain": [
       "<Figure size 216x504 with 1 Axes>"
      ]
     },
     "metadata": {
      "needs_background": "light"
     },
     "output_type": "display_data"
    }
   ],
   "source": [
    "plt.figure(figsize=(3,7))\n",
    "my_pal = {0: \"deepskyblue\", 1: \"darkred\"}\n",
    "sns.boxplot(x=insur['FraudFound_P'], y=insur['Age'], palette=my_pal, linewidth=3)"
   ]
  },
  {
   "cell_type": "code",
   "execution_count": 31,
   "metadata": {},
   "outputs": [
    {
     "data": {
      "text/html": [
       "<div>\n",
       "<style scoped>\n",
       "    .dataframe tbody tr th:only-of-type {\n",
       "        vertical-align: middle;\n",
       "    }\n",
       "\n",
       "    .dataframe tbody tr th {\n",
       "        vertical-align: top;\n",
       "    }\n",
       "\n",
       "    .dataframe thead th {\n",
       "        text-align: right;\n",
       "    }\n",
       "</style>\n",
       "<table border=\"1\" class=\"dataframe\">\n",
       "  <thead>\n",
       "    <tr style=\"text-align: right;\">\n",
       "      <th>Year</th>\n",
       "      <th>1994</th>\n",
       "      <th>1995</th>\n",
       "      <th>1996</th>\n",
       "    </tr>\n",
       "    <tr>\n",
       "      <th>FraudFound_P</th>\n",
       "      <th></th>\n",
       "      <th></th>\n",
       "      <th></th>\n",
       "    </tr>\n",
       "  </thead>\n",
       "  <tbody>\n",
       "    <tr>\n",
       "      <th>0</th>\n",
       "      <td>5733</td>\n",
       "      <td>4894</td>\n",
       "      <td>3870</td>\n",
       "    </tr>\n",
       "    <tr>\n",
       "      <th>1</th>\n",
       "      <td>409</td>\n",
       "      <td>301</td>\n",
       "      <td>213</td>\n",
       "    </tr>\n",
       "  </tbody>\n",
       "</table>\n",
       "</div>"
      ],
      "text/plain": [
       "Year          1994  1995  1996\n",
       "FraudFound_P                  \n",
       "0             5733  4894  3870\n",
       "1              409   301   213"
      ]
     },
     "execution_count": 31,
     "metadata": {},
     "output_type": "execute_result"
    }
   ],
   "source": [
    "pd.crosstab(insur['FraudFound_P'], insur['Year'])"
   ]
  },
  {
   "cell_type": "code",
   "execution_count": 32,
   "metadata": {},
   "outputs": [
    {
     "data": {
      "text/plain": [
       "6142"
      ]
     },
     "execution_count": 32,
     "metadata": {},
     "output_type": "execute_result"
    }
   ],
   "source": [
    "5733+409"
   ]
  },
  {
   "cell_type": "code",
   "execution_count": 82,
   "metadata": {},
   "outputs": [
    {
     "data": {
      "text/plain": [
       "Text(0.5, 1.0, 'Percentage Fraud Count by Year')"
      ]
     },
     "execution_count": 82,
     "metadata": {},
     "output_type": "execute_result"
    },
    {
     "data": {
      "image/png": "[encoded data removed]",
      "text/plain": [
       "<Figure size 504x360 with 1 Axes>"
      ]
     },
     "metadata": {
      "needs_background": "light"
     },
     "output_type": "display_data"
    }
   ],
   "source": [
    "fo=((insur['FraudFound_P']==1) & (insur['Year']==1994)).sum()\n",
    "fi=((insur['FraudFound_P']==1) & (insur['Year']==1995)).sum()\n",
    "si=((insur['FraudFound_P']==1) & (insur['Year']==1996)).sum()\n",
    "ffo=(insur['Year']==1994).sum()\n",
    "fii=(insur['Year']==1995).sum()\n",
    "sii=(insur['Year']==1996).sum()\n",
    "fop=(fo/ffo)*100\n",
    "fip=(fi/fii)*100\n",
    "sip=(si/sii)*100\n",
    "plt.figure(figsize=(7,5))\n",
    "plt.axis(ymin=2,ymax=8)\n",
    "plt.plot(['1994','1995','1996'], [fop,fip,sip], marker='o')\n",
    "plt.xlabel(\"Year\")\n",
    "plt.ylabel(\"Fraud %\")\n",
    "plt.title(\"Percentage Fraud Count by Year\")"
   ]
  },
  {
   "cell_type": "code",
   "execution_count": 86,
   "metadata": {},
   "outputs": [
    {
     "data": {
      "text/html": [
       "<div>\n",
       "<style scoped>\n",
       "    .dataframe tbody tr th:only-of-type {\n",
       "        vertical-align: middle;\n",
       "    }\n",
       "\n",
       "    .dataframe tbody tr th {\n",
       "        vertical-align: top;\n",
       "    }\n",
       "\n",
       "    .dataframe thead th {\n",
       "        text-align: right;\n",
       "    }\n",
       "</style>\n",
       "<table border=\"1\" class=\"dataframe\">\n",
       "  <thead>\n",
       "    <tr style=\"text-align: right;\">\n",
       "      <th>PolicyType</th>\n",
       "      <th>Sedan - All Perils</th>\n",
       "      <th>Sedan - Collision</th>\n",
       "      <th>Sedan - Liability</th>\n",
       "      <th>Sport - All Perils</th>\n",
       "      <th>Sport - Collision</th>\n",
       "      <th>Sport - Liability</th>\n",
       "      <th>Utility - All Perils</th>\n",
       "      <th>Utility - Collision</th>\n",
       "      <th>Utility - Liability</th>\n",
       "    </tr>\n",
       "    <tr>\n",
       "      <th>FraudFound_P</th>\n",
       "      <th></th>\n",
       "      <th></th>\n",
       "      <th></th>\n",
       "      <th></th>\n",
       "      <th></th>\n",
       "      <th></th>\n",
       "      <th></th>\n",
       "      <th></th>\n",
       "      <th></th>\n",
       "    </tr>\n",
       "  </thead>\n",
       "  <tbody>\n",
       "    <tr>\n",
       "      <th>0</th>\n",
       "      <td>3676</td>\n",
       "      <td>5200</td>\n",
       "      <td>4951</td>\n",
       "      <td>22</td>\n",
       "      <td>300</td>\n",
       "      <td>1</td>\n",
       "      <td>299</td>\n",
       "      <td>27</td>\n",
       "      <td>21</td>\n",
       "    </tr>\n",
       "    <tr>\n",
       "      <th>1</th>\n",
       "      <td>411</td>\n",
       "      <td>384</td>\n",
       "      <td>36</td>\n",
       "      <td>0</td>\n",
       "      <td>48</td>\n",
       "      <td>0</td>\n",
       "      <td>41</td>\n",
       "      <td>3</td>\n",
       "      <td>0</td>\n",
       "    </tr>\n",
       "  </tbody>\n",
       "</table>\n",
       "</div>"
      ],
      "text/plain": [
       "PolicyType    Sedan - All Perils  Sedan - Collision  Sedan - Liability  \\\n",
       "FraudFound_P                                                             \n",
       "0                           3676               5200               4951   \n",
       "1                            411                384                 36   \n",
       "\n",
       "PolicyType    Sport - All Perils  Sport - Collision  Sport - Liability  \\\n",
       "FraudFound_P                                                             \n",
       "0                             22                300                  1   \n",
       "1                              0                 48                  0   \n",
       "\n",
       "PolicyType    Utility - All Perils  Utility - Collision  Utility - Liability  \n",
       "FraudFound_P                                                                  \n",
       "0                              299                   27                   21  \n",
       "1                               41                    3                    0  "
      ]
     },
     "execution_count": 86,
     "metadata": {},
     "output_type": "execute_result"
    }
   ],
   "source": [
    "pd.crosstab(insur['FraudFound_P'], insur['PolicyType'])"
   ]
  },
  {
   "cell_type": "code",
   "execution_count": 33,
   "metadata": {},
   "outputs": [
    {
     "data": {
      "text/html": [
       "<div>\n",
       "<style scoped>\n",
       "    .dataframe tbody tr th:only-of-type {\n",
       "        vertical-align: middle;\n",
       "    }\n",
       "\n",
       "    .dataframe tbody tr th {\n",
       "        vertical-align: top;\n",
       "    }\n",
       "\n",
       "    .dataframe thead th {\n",
       "        text-align: right;\n",
       "    }\n",
       "</style>\n",
       "<table border=\"1\" class=\"dataframe\">\n",
       "  <thead>\n",
       "    <tr style=\"text-align: right;\">\n",
       "      <th>RepNumber</th>\n",
       "      <th>1</th>\n",
       "      <th>2</th>\n",
       "      <th>3</th>\n",
       "      <th>4</th>\n",
       "      <th>5</th>\n",
       "      <th>6</th>\n",
       "      <th>7</th>\n",
       "      <th>8</th>\n",
       "      <th>9</th>\n",
       "      <th>10</th>\n",
       "      <th>11</th>\n",
       "      <th>12</th>\n",
       "      <th>13</th>\n",
       "      <th>14</th>\n",
       "      <th>15</th>\n",
       "      <th>16</th>\n",
       "    </tr>\n",
       "    <tr>\n",
       "      <th>FraudFound_P</th>\n",
       "      <th></th>\n",
       "      <th></th>\n",
       "      <th></th>\n",
       "      <th></th>\n",
       "      <th></th>\n",
       "      <th></th>\n",
       "      <th></th>\n",
       "      <th></th>\n",
       "      <th></th>\n",
       "      <th></th>\n",
       "      <th></th>\n",
       "      <th></th>\n",
       "      <th></th>\n",
       "      <th></th>\n",
       "      <th></th>\n",
       "      <th></th>\n",
       "    </tr>\n",
       "  </thead>\n",
       "  <tbody>\n",
       "    <tr>\n",
       "      <th>0</th>\n",
       "      <td>924</td>\n",
       "      <td>901</td>\n",
       "      <td>889</td>\n",
       "      <td>862</td>\n",
       "      <td>935</td>\n",
       "      <td>876</td>\n",
       "      <td>995</td>\n",
       "      <td>879</td>\n",
       "      <td>934</td>\n",
       "      <td>920</td>\n",
       "      <td>892</td>\n",
       "      <td>930</td>\n",
       "      <td>834</td>\n",
       "      <td>884</td>\n",
       "      <td>928</td>\n",
       "      <td>914</td>\n",
       "    </tr>\n",
       "    <tr>\n",
       "      <th>1</th>\n",
       "      <td>63</td>\n",
       "      <td>55</td>\n",
       "      <td>60</td>\n",
       "      <td>50</td>\n",
       "      <td>52</td>\n",
       "      <td>66</td>\n",
       "      <td>74</td>\n",
       "      <td>52</td>\n",
       "      <td>65</td>\n",
       "      <td>66</td>\n",
       "      <td>56</td>\n",
       "      <td>47</td>\n",
       "      <td>58</td>\n",
       "      <td>57</td>\n",
       "      <td>49</td>\n",
       "      <td>53</td>\n",
       "    </tr>\n",
       "  </tbody>\n",
       "</table>\n",
       "</div>"
      ],
      "text/plain": [
       "RepNumber      1    2    3    4    5    6    7    8    9    10   11   12   13  \\\n",
       "FraudFound_P                                                                    \n",
       "0             924  901  889  862  935  876  995  879  934  920  892  930  834   \n",
       "1              63   55   60   50   52   66   74   52   65   66   56   47   58   \n",
       "\n",
       "RepNumber      14   15   16  \n",
       "FraudFound_P                 \n",
       "0             884  928  914  \n",
       "1              57   49   53  "
      ]
     },
     "execution_count": 33,
     "metadata": {},
     "output_type": "execute_result"
    }
   ],
   "source": [
    "pd.crosstab(insur['FraudFound_P'], insur['RepNumber'])"
   ]
  },
  {
   "cell_type": "code",
   "execution_count": 73,
   "metadata": {},
   "outputs": [],
   "source": [
    "for i in range(15420):\n",
    "    if insur.loc[i]['Month']=='Jan':\n",
    "        insur.at[i,'Month']=1\n",
    "    elif insur.loc[i]['Month']=='Feb':\n",
    "        insur.at[i,'Month']=2\n",
    "    elif insur.loc[i]['Month']=='Mar':\n",
    "        insur.at[i,'Month']=3\n",
    "    elif insur.loc[i]['Month']=='Apr':\n",
    "        insur.at[i,'Month']=4\n",
    "    elif insur.loc[i]['Month']=='May':\n",
    "        insur.at[i,'Month']=5\n",
    "    elif insur.loc[i]['Month']=='Jun':\n",
    "        insur.at[i,'Month']=6\n",
    "    elif insur.loc[i]['Month']=='Jul':\n",
    "        insur.at[i,'Month']=7\n",
    "    elif insur.loc[i]['Month']=='Aug':\n",
    "        insur.at[i,'Month']=8\n",
    "    elif insur.loc[i]['Month']=='Sep':\n",
    "        insur.at[i,'Month']=9\n",
    "    elif insur.loc[i]['Month']=='Oct':\n",
    "        insur.at[i,'Month']=10\n",
    "    elif insur.loc[i]['Month']=='Nov':\n",
    "        insur.at[i,'Month']=11\n",
    "    else:\n",
    "        insur.at[i,'Month']=12\n"
   ]
  },
  {
   "cell_type": "code",
   "execution_count": 74,
   "metadata": {},
   "outputs": [],
   "source": [
    "for i in range(15420):\n",
    "    if insur.loc[i]['MonthClaimed']=='Jan':\n",
    "        insur.at[i,'MonthClaimed']=1\n",
    "    elif insur.loc[i]['MonthClaimed']=='Feb':\n",
    "        insur.at[i,'MonthClaimed']=2\n",
    "    elif insur.loc[i]['MonthClaimed']=='Mar':\n",
    "        insur.at[i,'MonthClaimed']=3\n",
    "    elif insur.loc[i]['MonthClaimed']=='Apr':\n",
    "        insur.at[i,'MonthClaimed']=4\n",
    "    elif insur.loc[i]['MonthClaimed']=='May':\n",
    "        insur.at[i,'MonthClaimed']=5\n",
    "    elif insur.loc[i]['MonthClaimed']=='Jun':\n",
    "        insur.at[i,'MonthClaimed']=6\n",
    "    elif insur.loc[i]['MonthClaimed']=='Jul':\n",
    "        insur.at[i,'MonthClaimed']=7\n",
    "    elif insur.loc[i]['MonthClaimed']=='Aug':\n",
    "        insur.at[i,'MonthClaimed']=8\n",
    "    elif insur.loc[i]['MonthClaimed']=='Sep':\n",
    "        insur.at[i,'MonthClaimed']=9\n",
    "    elif insur.loc[i]['MonthClaimed']=='Oct':\n",
    "        insur.at[i,'MonthClaimed']=10\n",
    "    elif insur.loc[i]['MonthClaimed']=='Nov':\n",
    "        insur.at[i,'MonthClaimed']=11\n",
    "    else:\n",
    "        insur.at[i,'MonthClaimed']=12\n"
   ]
  },
  {
   "cell_type": "code",
   "execution_count": 65,
   "metadata": {},
   "outputs": [
    {
     "data": {
      "text/plain": [
       "-9"
      ]
     },
     "execution_count": 65,
     "metadata": {},
     "output_type": "execute_result"
    }
   ],
   "source": [
    "insur.loc[7]['MonthClaimed']-insur.loc[7]['Month']"
   ]
  },
  {
   "cell_type": "code",
   "execution_count": 66,
   "metadata": {},
   "outputs": [
    {
     "data": {
      "text/plain": [
       "3"
      ]
     },
     "execution_count": 66,
     "metadata": {},
     "output_type": "execute_result"
    }
   ],
   "source": [
    "-9+12"
   ]
  },
  {
   "cell_type": "code",
   "execution_count": 75,
   "metadata": {},
   "outputs": [],
   "source": [
    "for i in range(15420):\n",
    "    if insur.loc[i]['MonthClaimed']-insur.loc[i]['Month'] < 0:\n",
    "        insur.at[i,'Gap']=insur.loc[i]['MonthClaimed']-insur.loc[i]['Month']+12\n",
    "    else:\n",
    "        insur.at[i,'Gap']=insur.loc[i]['MonthClaimed']-insur.loc[i]['Month']\n"
   ]
  },
  {
   "cell_type": "code",
   "execution_count": 77,
   "metadata": {},
   "outputs": [],
   "source": [
    "insur['Gap']=insur['Gap'].astype('int')"
   ]
  },
  {
   "cell_type": "code",
   "execution_count": 79,
   "metadata": {},
   "outputs": [
    {
     "data": {
      "text/html": [
       "<div>\n",
       "<style scoped>\n",
       "    .dataframe tbody tr th:only-of-type {\n",
       "        vertical-align: middle;\n",
       "    }\n",
       "\n",
       "    .dataframe tbody tr th {\n",
       "        vertical-align: top;\n",
       "    }\n",
       "\n",
       "    .dataframe thead th {\n",
       "        text-align: right;\n",
       "    }\n",
       "</style>\n",
       "<table border=\"1\" class=\"dataframe\">\n",
       "  <thead>\n",
       "    <tr style=\"text-align: right;\">\n",
       "      <th>Gap</th>\n",
       "      <th>0</th>\n",
       "      <th>1</th>\n",
       "      <th>2</th>\n",
       "      <th>3</th>\n",
       "      <th>4</th>\n",
       "      <th>5</th>\n",
       "      <th>6</th>\n",
       "      <th>7</th>\n",
       "      <th>8</th>\n",
       "      <th>9</th>\n",
       "      <th>10</th>\n",
       "      <th>11</th>\n",
       "    </tr>\n",
       "    <tr>\n",
       "      <th>FraudFound_P</th>\n",
       "      <th></th>\n",
       "      <th></th>\n",
       "      <th></th>\n",
       "      <th></th>\n",
       "      <th></th>\n",
       "      <th></th>\n",
       "      <th></th>\n",
       "      <th></th>\n",
       "      <th></th>\n",
       "      <th></th>\n",
       "      <th></th>\n",
       "      <th></th>\n",
       "    </tr>\n",
       "  </thead>\n",
       "  <tbody>\n",
       "    <tr>\n",
       "      <th>0</th>\n",
       "      <td>10809</td>\n",
       "      <td>2987</td>\n",
       "      <td>349</td>\n",
       "      <td>134</td>\n",
       "      <td>74</td>\n",
       "      <td>36</td>\n",
       "      <td>35</td>\n",
       "      <td>29</td>\n",
       "      <td>20</td>\n",
       "      <td>10</td>\n",
       "      <td>7</td>\n",
       "      <td>7</td>\n",
       "    </tr>\n",
       "    <tr>\n",
       "      <th>1</th>\n",
       "      <td>633</td>\n",
       "      <td>224</td>\n",
       "      <td>41</td>\n",
       "      <td>11</td>\n",
       "      <td>6</td>\n",
       "      <td>3</td>\n",
       "      <td>2</td>\n",
       "      <td>0</td>\n",
       "      <td>3</td>\n",
       "      <td>0</td>\n",
       "      <td>0</td>\n",
       "      <td>0</td>\n",
       "    </tr>\n",
       "  </tbody>\n",
       "</table>\n",
       "</div>"
      ],
      "text/plain": [
       "Gap              0     1    2    3   4   5   6   7   8   9   10  11\n",
       "FraudFound_P                                                       \n",
       "0             10809  2987  349  134  74  36  35  29  20  10   7   7\n",
       "1               633   224   41   11   6   3   2   0   3   0   0   0"
      ]
     },
     "execution_count": 79,
     "metadata": {},
     "output_type": "execute_result"
    }
   ],
   "source": [
    "pd.crosstab(insur['FraudFound_P'], insur['Gap'])"
   ]
  },
  {
   "cell_type": "code",
   "execution_count": 80,
   "metadata": {},
   "outputs": [
    {
     "data": {
      "text/plain": [
       "Text(0.5, 1.0, 'No. of months between accident and claim')"
      ]
     },
     "execution_count": 80,
     "metadata": {},
     "output_type": "execute_result"
    },
    {
     "data": {
      "image/png": "[encoded data removed]",
      "text/plain": [
       "<Figure size 864x288 with 1 Axes>"
      ]
     },
     "metadata": {
      "needs_background": "light"
     },
     "output_type": "display_data"
    }
   ],
   "source": [
    "janf=((insur['Gap']==0) & (insur['FraudFound_P']==1)).sum();\n",
    "febf=((insur['Gap']==1) & (insur['FraudFound_P']==1)).sum();\n",
    "marf=((insur['Gap']==2) & (insur['FraudFound_P']==1)).sum();\n",
    "aprf=((insur['Gap']==3) & (insur['FraudFound_P']==1)).sum();\n",
    "mayf=((insur['Gap']==4) & (insur['FraudFound_P']==1)).sum();\n",
    "junf=((insur['Gap']==5) & (insur['FraudFound_P']==1)).sum();\n",
    "julf=((insur['Gap']==6) & (insur['FraudFound_P']==1)).sum();\n",
    "augf=((insur['Gap']==7) & (insur['FraudFound_P']==1)).sum();\n",
    "sepf=((insur['Gap']==8) & (insur['FraudFound_P']==1)).sum();\n",
    "octf=((insur['Gap']==9) & (insur['FraudFound_P']==1)).sum();\n",
    "novf=((insur['Gap']==10) & (insur['FraudFound_P']==1)).sum();\n",
    "decf=((insur['Gap']==11) & (insur['FraudFound_P']==1)).sum();\n",
    "xdat=np.array([janf,febf,marf,aprf,mayf,junf,julf,augf,sepf,octf,novf,decf])\n",
    "ydat=np.array(['0','1','2','3','4','5','6','7','8','9','10','11'])\n",
    "plt.figure(figsize=(12,4))\n",
    "plt.bar(ydat,xdat, color=['darkorchid','violet','cadetblue'])\n",
    "plt.xlabel('Gap')\n",
    "plt.ylabel('Frauds')\n",
    "plt.title('No. of months between accident and claim')"
   ]
  },
  {
   "cell_type": "code",
   "execution_count": 85,
   "metadata": {},
   "outputs": [
    {
     "data": {
      "text/plain": [
       "Text(0.5, 1.0, 'Percentage Fraud Count by Gap')"
      ]
     },
     "execution_count": 85,
     "metadata": {},
     "output_type": "execute_result"
    },
    {
     "data": {
      "image/png": "[encoded data removed]",
      "text/plain": [
       "<Figure size 864x360 with 1 Axes>"
      ]
     },
     "metadata": {
      "needs_background": "light"
     },
     "output_type": "display_data"
    }
   ],
   "source": [
    "f1=((insur['Gap']==0) & (insur['FraudFound_P']==1)).sum();\n",
    "f2=((insur['Gap']==1) & (insur['FraudFound_P']==1)).sum();\n",
    "f3=((insur['Gap']==2) & (insur['FraudFound_P']==1)).sum();\n",
    "f4=((insur['Gap']==3) & (insur['FraudFound_P']==1)).sum();\n",
    "f5=((insur['Gap']==4) & (insur['FraudFound_P']==1)).sum();\n",
    "f6=((insur['Gap']==5) & (insur['FraudFound_P']==1)).sum();\n",
    "f7=((insur['Gap']==6) & (insur['FraudFound_P']==1)).sum();\n",
    "f8=((insur['Gap']==7) & (insur['FraudFound_P']==1)).sum();\n",
    "f9=((insur['Gap']==8) & (insur['FraudFound_P']==1)).sum();\n",
    "f10=((insur['Gap']==9) & (insur['FraudFound_P']==1)).sum();\n",
    "f11=((insur['Gap']==10) & (insur['FraudFound_P']==1)).sum();\n",
    "f12=((insur['Gap']==11) & (insur['FraudFound_P']==1)).sum();\n",
    "ff1=(insur['Gap']==0).sum();\n",
    "ff2=(insur['Gap']==1).sum();\n",
    "ff3=(insur['Gap']==2).sum();\n",
    "ff4=(insur['Gap']==3).sum();\n",
    "ff5=(insur['Gap']==4).sum();\n",
    "ff6=(insur['Gap']==5).sum();\n",
    "ff7=(insur['Gap']==6).sum();\n",
    "ff8=(insur['Gap']==7).sum();\n",
    "ff9=(insur['Gap']==8).sum();\n",
    "ff10=(insur['Gap']==9).sum();\n",
    "ff11=(insur['Gap']==10).sum();\n",
    "ff12=(insur['Gap']==11).sum();\n",
    "ff1=(f1/ff1)*100;\n",
    "ff2=(f2/ff2)*100;\n",
    "ff3=(f3/ff3)*100;\n",
    "ff4=(f4/ff4)*100;\n",
    "ff5=(f5/ff5)*100;\n",
    "ff6=(f6/ff6)*100;\n",
    "ff7=(f7/ff7)*100;\n",
    "ff8=(f8/ff8)*100;\n",
    "ff9=(f9/ff9)*100;\n",
    "ff10=(f10/ff10)*100;\n",
    "ff11=(f11/ff11)*100;\n",
    "ff12=(f12/ff12)*100;\n",
    "plt.figure(figsize=(12,5))\n",
    "plt.axis(ymin=0, ymax=15)\n",
    "plt.plot(['0','1','2','3','4','5','6','7','8','9','10','11'], [ff1,ff2,ff3,ff4,ff5,ff6,ff7,ff8,ff9,ff10,ff11,ff10], marker='o')\n",
    "plt.xlabel(\"Gap\")\n",
    "plt.ylabel(\"Fraud %\")\n",
    "plt.title(\"Percentage Fraud Count by Gap\")"
   ]
  },
  {
   "cell_type": "code",
   "execution_count": null,
   "metadata": {},
   "outputs": [],
   "source": []
  }
 ],
 "metadata": {
  "kernelspec": {
   "display_name": "Python 3",
   "language": "python",
   "name": "python3"
  },
  "language_info": {
   "codemirror_mode": {
    "name": "ipython",
    "version": 3
   },
   "file_extension": ".py",
   "mimetype": "text/x-python",
   "name": "python",
   "nbconvert_exporter": "python",
   "pygments_lexer": "ipython3",
   "version": "3.6.8"
  }
 },
 "nbformat": 4,
 "nbformat_minor": 2
}
